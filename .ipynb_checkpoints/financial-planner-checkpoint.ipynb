{
 "cells": [
  {
   "cell_type": "markdown",
   "metadata": {},
   "source": [
    "# Unit 5 - Financial Planning\n"
   ]
  },
  {
   "cell_type": "code",
   "execution_count": 1,
   "metadata": {},
   "outputs": [],
   "source": [
    "# Initial imports\n",
    "import os\n",
    "import requests\n",
    "import pandas as pd\n",
    "from dotenv import load_dotenv\n",
    "import alpaca_trade_api as tradeapi\n",
    "from MCForecastTools import MCSimulation\n",
    "import json\n",
    "\n",
    "%matplotlib inline"
   ]
  },
  {
   "cell_type": "code",
   "execution_count": 2,
   "metadata": {},
   "outputs": [
    {
     "data": {
      "text/plain": [
       "True"
      ]
     },
     "execution_count": 2,
     "metadata": {},
     "output_type": "execute_result"
    }
   ],
   "source": [
    "# Load .env enviroment variables\n",
    "load_dotenv('alpaca_keys.env')"
   ]
  },
  {
   "cell_type": "code",
   "execution_count": 3,
   "metadata": {},
   "outputs": [],
   "source": [
    "alpaca_api_key = os.getenv(\"alpaca_api_key\")\n",
    "alpaca_secret_key = os.getenv(\"alpaca_secret_key\")"
   ]
  },
  {
   "cell_type": "markdown",
   "metadata": {},
   "source": [
    "## Part 1 - Personal Finance Planner"
   ]
  },
  {
   "cell_type": "markdown",
   "metadata": {},
   "source": [
    "### Collect Crypto Prices Using the `requests` Library"
   ]
  },
  {
   "cell_type": "code",
   "execution_count": 4,
   "metadata": {},
   "outputs": [],
   "source": [
    "# Set current amount of crypto assets\n",
    "\n",
    "crypto_shares = {\n",
    "    \"btc\": 1.2,\n",
    "    \"eth\": 5.3,\n",
    "}\n",
    "\n",
    "my_btc = crypto_shares['btc']\n",
    "my_eth = crypto_shares['eth']\n",
    "\n"
   ]
  },
  {
   "cell_type": "code",
   "execution_count": 5,
   "metadata": {},
   "outputs": [],
   "source": [
    "# Crypto API URLs\n",
    "btc_url = \"https://api.alternative.me/v2/ticker/Bitcoin/?convert=CAD\"\n",
    "eth_url = \"https://api.alternative.me/v2/ticker/Ethereum/?convert=CAD\""
   ]
  },
  {
   "cell_type": "code",
   "execution_count": 6,
   "metadata": {},
   "outputs": [
    {
     "name": "stdout",
     "output_type": "stream",
     "text": [
      "The current value of your 1.2 BTC is $54957.00\n",
      "The current value of your 5.3 ETH is $2561.34\n"
     ]
    }
   ],
   "source": [
    "# Fetch current BTC price\n",
    "\n",
    "## Submit request and format output\n",
    "my_btc_request = requests.get(btc_url).json()\n",
    "\n",
    "###print(json.dumps(my_btc_value, indent=4))\n",
    "my_btc_value = my_btc_request['data']['1']['quotes']['USD']['price']\n",
    "#print(my_btc_value)\n",
    "\n",
    "#Fetch current ETH price \n",
    "my_eth_request = requests.get(eth_url).json()\n",
    "\n",
    "#print(json.dumps(my_eth_request, indent=4))\n",
    "\n",
    "my_eth_value = my_eth_request['data']['1027']['quotes']['USD']['price']\n",
    "\n",
    "#print(my_eth_value)\n",
    "# Compute current value of my crpto\n",
    "\n",
    "\n",
    "# Print current crypto wallet balance\n",
    "print(f\"The current value of your {my_btc} BTC is ${my_btc_value:0.2f}\")\n",
    "print(f\"The current value of your {my_eth} ETH is ${my_eth_value:0.2f}\")"
   ]
  },
  {
   "cell_type": "markdown",
   "metadata": {},
   "source": [
    "### Collect Investments Data Using Alpaca: `SPY` (stocks) and `AGG` (bonds)"
   ]
  },
  {
   "cell_type": "code",
   "execution_count": 7,
   "metadata": {},
   "outputs": [],
   "source": [
    "# Current amount of shares\n",
    "shares_data = {\n",
    "    \"shares\": [200, 50]\n",
    "}\n",
    "my_agg = shares_data['shares'][0]\n",
    "my_spy = shares_data['shares'][1]\n"
   ]
  },
  {
   "cell_type": "code",
   "execution_count": 8,
   "metadata": {},
   "outputs": [],
   "source": [
    "# Set Alpaca API key and secret\n",
    "#done\n",
    "\n",
    "# Create the Alpaca API object\n",
    "api = tradeapi.REST(\n",
    "    alpaca_api_key,\n",
    "    alpaca_secret_key,\n",
    "    api_version = \"v2\"\n",
    ")"
   ]
  },
  {
   "cell_type": "code",
   "execution_count": 9,
   "metadata": {},
   "outputs": [
    {
     "data": {
      "text/html": [
       "<div>\n",
       "<style scoped>\n",
       "    .dataframe tbody tr th:only-of-type {\n",
       "        vertical-align: middle;\n",
       "    }\n",
       "\n",
       "    .dataframe tbody tr th {\n",
       "        vertical-align: top;\n",
       "    }\n",
       "\n",
       "    .dataframe thead tr th {\n",
       "        text-align: left;\n",
       "    }\n",
       "\n",
       "    .dataframe thead tr:last-of-type th {\n",
       "        text-align: right;\n",
       "    }\n",
       "</style>\n",
       "<table border=\"1\" class=\"dataframe\">\n",
       "  <thead>\n",
       "    <tr>\n",
       "      <th></th>\n",
       "      <th colspan=\"5\" halign=\"left\">AGG</th>\n",
       "      <th colspan=\"5\" halign=\"left\">SPY</th>\n",
       "    </tr>\n",
       "    <tr>\n",
       "      <th></th>\n",
       "      <th>open</th>\n",
       "      <th>high</th>\n",
       "      <th>low</th>\n",
       "      <th>close</th>\n",
       "      <th>volume</th>\n",
       "      <th>open</th>\n",
       "      <th>high</th>\n",
       "      <th>low</th>\n",
       "      <th>close</th>\n",
       "      <th>volume</th>\n",
       "    </tr>\n",
       "    <tr>\n",
       "      <th>time</th>\n",
       "      <th></th>\n",
       "      <th></th>\n",
       "      <th></th>\n",
       "      <th></th>\n",
       "      <th></th>\n",
       "      <th></th>\n",
       "      <th></th>\n",
       "      <th></th>\n",
       "      <th></th>\n",
       "      <th></th>\n",
       "    </tr>\n",
       "  </thead>\n",
       "  <tbody>\n",
       "    <tr>\n",
       "      <th>2021-04-19 00:00:00-04:00</th>\n",
       "      <td>114</td>\n",
       "      <td>114.5</td>\n",
       "      <td>114</td>\n",
       "      <td>114.44</td>\n",
       "      <td>4820664</td>\n",
       "      <td>416.26</td>\n",
       "      <td>416.74</td>\n",
       "      <td>413.79</td>\n",
       "      <td>415.24</td>\n",
       "      <td>66226327</td>\n",
       "    </tr>\n",
       "  </tbody>\n",
       "</table>\n",
       "</div>"
      ],
      "text/plain": [
       "                           AGG                                  SPY          \\\n",
       "                          open   high  low   close   volume    open    high   \n",
       "time                                                                          \n",
       "2021-04-19 00:00:00-04:00  114  114.5  114  114.44  4820664  416.26  416.74   \n",
       "\n",
       "                                                     \n",
       "                              low   close    volume  \n",
       "time                                                 \n",
       "2021-04-19 00:00:00-04:00  413.79  415.24  66226327  "
      ]
     },
     "execution_count": 9,
     "metadata": {},
     "output_type": "execute_result"
    }
   ],
   "source": [
    "# Format current date as ISO format\n",
    "start_date = pd.Timestamp(\"2021-04-18\", tz=\"America/New_York\").isoformat()\n",
    "end_date = pd.Timestamp(\"2021-04-19\", tz=\"America/New_York\").isoformat()\n",
    "# Set the tickers\n",
    "tickers = [\"AGG\", \"SPY\"]\n",
    "\n",
    "# Set timeframe to '1D' for Alpaca API\n",
    "timeframe = \"1D\"\n",
    "\n",
    "# Get current closing prices for SPY and AGG\n",
    "\n",
    "ticker_data = api.get_barset(\n",
    "    tickers,\n",
    "    timeframe,\n",
    "    start=start_date,\n",
    "    end=end_date,\n",
    "    limit=1000,\n",
    ").df\n",
    "\n",
    "# Preview DataFrame\n",
    "ticker_data.head()"
   ]
  },
  {
   "cell_type": "code",
   "execution_count": 10,
   "metadata": {},
   "outputs": [
    {
     "data": {
      "text/html": [
       "<div>\n",
       "<style scoped>\n",
       "    .dataframe tbody tr th:only-of-type {\n",
       "        vertical-align: middle;\n",
       "    }\n",
       "\n",
       "    .dataframe tbody tr th {\n",
       "        vertical-align: top;\n",
       "    }\n",
       "\n",
       "    .dataframe thead th {\n",
       "        text-align: right;\n",
       "    }\n",
       "</style>\n",
       "<table border=\"1\" class=\"dataframe\">\n",
       "  <thead>\n",
       "    <tr style=\"text-align: right;\">\n",
       "      <th></th>\n",
       "      <th>AGG</th>\n",
       "      <th>SPY</th>\n",
       "    </tr>\n",
       "  </thead>\n",
       "  <tbody>\n",
       "    <tr>\n",
       "      <th>2021-04-19</th>\n",
       "      <td>114.44</td>\n",
       "      <td>415.24</td>\n",
       "    </tr>\n",
       "  </tbody>\n",
       "</table>\n",
       "</div>"
      ],
      "text/plain": [
       "               AGG     SPY\n",
       "2021-04-19  114.44  415.24"
      ]
     },
     "execution_count": 10,
     "metadata": {},
     "output_type": "execute_result"
    }
   ],
   "source": [
    "#clean data\n",
    "df_closing_prices = pd.DataFrame()\n",
    "\n",
    "df_closing_prices['AGG'] = ticker_data['AGG']['close']\n",
    "df_closing_prices['SPY'] = ticker_data['SPY']['close']\n",
    "\n",
    "df_closing_prices.index = df_closing_prices.index.date\n",
    "df_closing_prices"
   ]
  },
  {
   "cell_type": "code",
   "execution_count": 11,
   "metadata": {},
   "outputs": [
    {
     "name": "stdout",
     "output_type": "stream",
     "text": [
      "The current value of your 50 SPY shares is $20762.00\n",
      "The current value of your 200 AGG shares is $22888.00\n"
     ]
    }
   ],
   "source": [
    "# Compute the current value of shares\n",
    "AGG_close = float(df_closing_prices['AGG'])\n",
    "SPY_close = float(df_closing_prices['SPY'])\n",
    "\n",
    "my_agg_value = AGG_close * my_agg\n",
    "my_spy_value = SPY_close * my_spy\n",
    "\n",
    "\n",
    "\n",
    "# Print current value of share\n",
    "print(f\"The current value of your {my_spy} SPY shares is ${my_spy_value:0.2f}\")\n",
    "print(f\"The current value of your {my_agg} AGG shares is ${my_agg_value:0.2f}\")"
   ]
  },
  {
   "cell_type": "markdown",
   "metadata": {},
   "source": [
    "### Savings Health Analysis"
   ]
  },
  {
   "cell_type": "code",
   "execution_count": 20,
   "metadata": {},
   "outputs": [
    {
     "data": {
      "text/html": [
       "<div>\n",
       "<style scoped>\n",
       "    .dataframe tbody tr th:only-of-type {\n",
       "        vertical-align: middle;\n",
       "    }\n",
       "\n",
       "    .dataframe tbody tr th {\n",
       "        vertical-align: top;\n",
       "    }\n",
       "\n",
       "    .dataframe thead th {\n",
       "        text-align: right;\n",
       "    }\n",
       "</style>\n",
       "<table border=\"1\" class=\"dataframe\">\n",
       "  <thead>\n",
       "    <tr style=\"text-align: right;\">\n",
       "      <th></th>\n",
       "      <th>Amount</th>\n",
       "    </tr>\n",
       "  </thead>\n",
       "  <tbody>\n",
       "    <tr>\n",
       "      <th>Crypto</th>\n",
       "      <td>57518.34</td>\n",
       "    </tr>\n",
       "    <tr>\n",
       "      <th>Stock</th>\n",
       "      <td>43650.00</td>\n",
       "    </tr>\n",
       "  </tbody>\n",
       "</table>\n",
       "</div>"
      ],
      "text/plain": [
       "          Amount\n",
       "Crypto  57518.34\n",
       "Stock   43650.00"
      ]
     },
     "execution_count": 20,
     "metadata": {},
     "output_type": "execute_result"
    }
   ],
   "source": [
    "# Set monthly household income\n",
    "monthly_income = 12000.00\n",
    "\n",
    "BTC_ETH_Value = my_btc_value + my_eth_value\n",
    "Stock_Value = my_agg_value + my_spy_value\n",
    "\n",
    "# Create savings DataFrame\n",
    "df = {\n",
    "    \"Amount\": {\n",
    "        \"Crypto\": BTC_ETH_Value,\n",
    "        \"Stock\": Stock_Value,\n",
    "    }\n",
    "    }\n",
    "\n",
    "df_savings = pd.DataFrame(df, columns = ['Amount'], index = ['Crypto','Stock'])\n",
    "df_savings\n",
    "\n"
   ]
  },
  {
   "cell_type": "code",
   "execution_count": 13,
   "metadata": {},
   "outputs": [
    {
     "data": {
      "text/plain": [
       "<AxesSubplot:ylabel='Amount'>"
      ]
     },
     "execution_count": 13,
     "metadata": {},
     "output_type": "execute_result"
    },
    {
     "data": {
      "image/png": "[encoded data removed]",
      "text/plain": [
       "<Figure size 432x288 with 1 Axes>"
      ]
     },
     "metadata": {},
     "output_type": "display_data"
    }
   ],
   "source": [
    "# Plot savings pie chart\n",
    "df_savings.plot.pie(y='Amount')"
   ]
  },
  {
   "cell_type": "code",
   "execution_count": 59,
   "metadata": {},
   "outputs": [
    {
     "name": "stdout",
     "output_type": "stream",
     "text": [
      "Congratulations for having $101168.34 in your savings. You have enough emergency funds!\n"
     ]
    }
   ],
   "source": [
    "# Set ideal emergency fund\n",
    "emergency_fund = (monthly_income * 3)\n",
    "\n",
    "# Calculate total amount of savings\n",
    "total_savings = (Stock_Value + BTC_ETH_Value)\n",
    "\n",
    "difference = (total_savings - emergency_fund) * -1\n",
    "\n",
    "#Validate saving health\n",
    "\n",
    "if (total_savings > emergency_fund) :\n",
    "    print(f'Congratulations for having ${total_savings} in your savings. You have enough emergency funds!')\n",
    "elif (total_savings == emergency_fund) : \n",
    "       print(f'Congratulations on reaching your emergency fund goal of {emergency_fund}')\n",
    "elif (total_savings < emergency_fund):\n",
    "        print(f'You are {difference} dollars away from your emergency fund')\n",
    "    "
   ]
  },
  {
   "cell_type": "markdown",
   "metadata": {},
   "source": [
    "## Part 2 - Retirement Planning\n",
    "\n",
    "### Monte Carlo Simulation"
   ]
  },
  {
   "cell_type": "code",
   "execution_count": 60,
   "metadata": {},
   "outputs": [],
   "source": [
    "# Set start and end dates of five years back from today.\n",
    "# Sample results may vary from the solution based on the time frame chosen\n",
    "start_date = pd.Timestamp('2016-04-18', tz='America/New_York').isoformat()\n",
    "end_date = pd.Timestamp('2021-04-19', tz='America/New_York').isoformat()"
   ]
  },
  {
   "cell_type": "code",
   "execution_count": 61,
   "metadata": {},
   "outputs": [
    {
     "data": {
      "text/html": [
       "<div>\n",
       "<style scoped>\n",
       "    .dataframe tbody tr th:only-of-type {\n",
       "        vertical-align: middle;\n",
       "    }\n",
       "\n",
       "    .dataframe tbody tr th {\n",
       "        vertical-align: top;\n",
       "    }\n",
       "\n",
       "    .dataframe thead tr th {\n",
       "        text-align: left;\n",
       "    }\n",
       "\n",
       "    .dataframe thead tr:last-of-type th {\n",
       "        text-align: right;\n",
       "    }\n",
       "</style>\n",
       "<table border=\"1\" class=\"dataframe\">\n",
       "  <thead>\n",
       "    <tr>\n",
       "      <th></th>\n",
       "      <th colspan=\"5\" halign=\"left\">AGG</th>\n",
       "      <th colspan=\"5\" halign=\"left\">SPY</th>\n",
       "    </tr>\n",
       "    <tr>\n",
       "      <th></th>\n",
       "      <th>open</th>\n",
       "      <th>high</th>\n",
       "      <th>low</th>\n",
       "      <th>close</th>\n",
       "      <th>volume</th>\n",
       "      <th>open</th>\n",
       "      <th>high</th>\n",
       "      <th>low</th>\n",
       "      <th>close</th>\n",
       "      <th>volume</th>\n",
       "    </tr>\n",
       "    <tr>\n",
       "      <th>time</th>\n",
       "      <th></th>\n",
       "      <th></th>\n",
       "      <th></th>\n",
       "      <th></th>\n",
       "      <th></th>\n",
       "      <th></th>\n",
       "      <th></th>\n",
       "      <th></th>\n",
       "      <th></th>\n",
       "      <th></th>\n",
       "    </tr>\n",
       "  </thead>\n",
       "  <tbody>\n",
       "    <tr>\n",
       "      <th>2017-04-28 00:00:00-04:00</th>\n",
       "      <td>108.98</td>\n",
       "      <td>109.2500</td>\n",
       "      <td>108.910</td>\n",
       "      <td>109.250</td>\n",
       "      <td>2722695</td>\n",
       "      <td>238.90</td>\n",
       "      <td>238.9300</td>\n",
       "      <td>237.930</td>\n",
       "      <td>238.10</td>\n",
       "      <td>42264701</td>\n",
       "    </tr>\n",
       "    <tr>\n",
       "      <th>2017-05-01 00:00:00-04:00</th>\n",
       "      <td>108.86</td>\n",
       "      <td>108.9599</td>\n",
       "      <td>108.620</td>\n",
       "      <td>108.735</td>\n",
       "      <td>2335646</td>\n",
       "      <td>238.69</td>\n",
       "      <td>239.1700</td>\n",
       "      <td>238.195</td>\n",
       "      <td>238.65</td>\n",
       "      <td>38750688</td>\n",
       "    </tr>\n",
       "    <tr>\n",
       "      <th>2017-05-02 00:00:00-04:00</th>\n",
       "      <td>108.68</td>\n",
       "      <td>108.9400</td>\n",
       "      <td>108.679</td>\n",
       "      <td>108.890</td>\n",
       "      <td>2570794</td>\n",
       "      <td>238.84</td>\n",
       "      <td>238.9800</td>\n",
       "      <td>238.300</td>\n",
       "      <td>238.79</td>\n",
       "      <td>39563850</td>\n",
       "    </tr>\n",
       "    <tr>\n",
       "      <th>2017-05-03 00:00:00-04:00</th>\n",
       "      <td>108.97</td>\n",
       "      <td>108.9900</td>\n",
       "      <td>108.770</td>\n",
       "      <td>108.795</td>\n",
       "      <td>1765578</td>\n",
       "      <td>238.32</td>\n",
       "      <td>238.8775</td>\n",
       "      <td>237.700</td>\n",
       "      <td>238.52</td>\n",
       "      <td>47292627</td>\n",
       "    </tr>\n",
       "    <tr>\n",
       "      <th>2017-05-04 00:00:00-04:00</th>\n",
       "      <td>108.55</td>\n",
       "      <td>108.7000</td>\n",
       "      <td>108.550</td>\n",
       "      <td>108.665</td>\n",
       "      <td>1789624</td>\n",
       "      <td>238.83</td>\n",
       "      <td>238.9225</td>\n",
       "      <td>237.780</td>\n",
       "      <td>238.75</td>\n",
       "      <td>46170233</td>\n",
       "    </tr>\n",
       "  </tbody>\n",
       "</table>\n",
       "</div>"
      ],
      "text/plain": [
       "                              AGG                                       \\\n",
       "                             open      high      low    close   volume   \n",
       "time                                                                     \n",
       "2017-04-28 00:00:00-04:00  108.98  109.2500  108.910  109.250  2722695   \n",
       "2017-05-01 00:00:00-04:00  108.86  108.9599  108.620  108.735  2335646   \n",
       "2017-05-02 00:00:00-04:00  108.68  108.9400  108.679  108.890  2570794   \n",
       "2017-05-03 00:00:00-04:00  108.97  108.9900  108.770  108.795  1765578   \n",
       "2017-05-04 00:00:00-04:00  108.55  108.7000  108.550  108.665  1789624   \n",
       "\n",
       "                              SPY                                       \n",
       "                             open      high      low   close    volume  \n",
       "time                                                                    \n",
       "2017-04-28 00:00:00-04:00  238.90  238.9300  237.930  238.10  42264701  \n",
       "2017-05-01 00:00:00-04:00  238.69  239.1700  238.195  238.65  38750688  \n",
       "2017-05-02 00:00:00-04:00  238.84  238.9800  238.300  238.79  39563850  \n",
       "2017-05-03 00:00:00-04:00  238.32  238.8775  237.700  238.52  47292627  \n",
       "2017-05-04 00:00:00-04:00  238.83  238.9225  237.780  238.75  46170233  "
      ]
     },
     "execution_count": 61,
     "metadata": {},
     "output_type": "execute_result"
    }
   ],
   "source": [
    "# Get 5 years' worth of historical data for SPY and AGG\n",
    "tickers = [\"AGG\", \"SPY\"]\n",
    "\n",
    "timeframe = \"1D\"\n",
    "\n",
    "ticker_data = api.get_barset(\n",
    "    tickers,\n",
    "    timeframe,\n",
    "    start=start_date,\n",
    "    end=end_date,\n",
    "    limit=1000,\n",
    ").df\n",
    "\n",
    "# \n",
    "ticker_data.head()\n",
    "\n"
   ]
  },
  {
   "cell_type": "code",
   "execution_count": 64,
   "metadata": {},
   "outputs": [
    {
     "data": {
      "text/html": [
       "<div>\n",
       "<style scoped>\n",
       "    .dataframe tbody tr th:only-of-type {\n",
       "        vertical-align: middle;\n",
       "    }\n",
       "\n",
       "    .dataframe tbody tr th {\n",
       "        vertical-align: top;\n",
       "    }\n",
       "\n",
       "    .dataframe thead th {\n",
       "        text-align: right;\n",
       "    }\n",
       "</style>\n",
       "<table border=\"1\" class=\"dataframe\">\n",
       "  <thead>\n",
       "    <tr style=\"text-align: right;\">\n",
       "      <th></th>\n",
       "      <th>AGG</th>\n",
       "      <th>SPY</th>\n",
       "    </tr>\n",
       "  </thead>\n",
       "  <tbody>\n",
       "    <tr>\n",
       "      <th>2017-05-01</th>\n",
       "      <td>-0.004714</td>\n",
       "      <td>0.002310</td>\n",
       "    </tr>\n",
       "    <tr>\n",
       "      <th>2017-05-02</th>\n",
       "      <td>0.001425</td>\n",
       "      <td>0.000587</td>\n",
       "    </tr>\n",
       "    <tr>\n",
       "      <th>2017-05-03</th>\n",
       "      <td>-0.000872</td>\n",
       "      <td>-0.001131</td>\n",
       "    </tr>\n",
       "    <tr>\n",
       "      <th>2017-05-04</th>\n",
       "      <td>-0.001195</td>\n",
       "      <td>0.000964</td>\n",
       "    </tr>\n",
       "    <tr>\n",
       "      <th>2017-05-05</th>\n",
       "      <td>0.000506</td>\n",
       "      <td>0.004063</td>\n",
       "    </tr>\n",
       "  </tbody>\n",
       "</table>\n",
       "</div>"
      ],
      "text/plain": [
       "                 AGG       SPY\n",
       "2017-05-01 -0.004714  0.002310\n",
       "2017-05-02  0.001425  0.000587\n",
       "2017-05-03 -0.000872 -0.001131\n",
       "2017-05-04 -0.001195  0.000964\n",
       "2017-05-05  0.000506  0.004063"
      ]
     },
     "execution_count": 64,
     "metadata": {},
     "output_type": "execute_result"
    }
   ],
   "source": [
    "# Configuring a Monte Carlo simulation to forecast 30 years cumulative returns\n",
    "monte_closing_prices = pd.DataFrame()\n",
    "\n",
    "monte_closing_prices[\"AGG\"] = ticker_data[\"AGG\"][\"close\"]\n",
    "monte_closing_prices[\"SPY\"] = ticker_data[\"SPY\"][\"close\"]\n",
    "\n",
    "monte_closing_prices.index = monte_closing_prices.index.date\n",
    "\n",
    "monte_daily_returns = monte_closing_prices.pct_change().dropna()\n",
    "\n",
    "monte_daily_returns.head()"
   ]
  },
  {
   "cell_type": "code",
   "execution_count": 85,
   "metadata": {},
   "outputs": [
    {
     "name": "stdout",
     "output_type": "stream",
     "text": [
      "Running Monte Carlo simulation number 0.\n",
      "Running Monte Carlo simulation number 10.\n",
      "Running Monte Carlo simulation number 20.\n",
      "Running Monte Carlo simulation number 30.\n",
      "Running Monte Carlo simulation number 40.\n",
      "Running Monte Carlo simulation number 50.\n",
      "Running Monte Carlo simulation number 60.\n",
      "Running Monte Carlo simulation number 70.\n",
      "Running Monte Carlo simulation number 80.\n",
      "Running Monte Carlo simulation number 90.\n",
      "Running Monte Carlo simulation number 100.\n",
      "Running Monte Carlo simulation number 110.\n",
      "Running Monte Carlo simulation number 120.\n",
      "Running Monte Carlo simulation number 130.\n",
      "Running Monte Carlo simulation number 140.\n",
      "Running Monte Carlo simulation number 150.\n",
      "Running Monte Carlo simulation number 160.\n",
      "Running Monte Carlo simulation number 170.\n",
      "Running Monte Carlo simulation number 180.\n",
      "Running Monte Carlo simulation number 190.\n",
      "Running Monte Carlo simulation number 200.\n",
      "Running Monte Carlo simulation number 210.\n",
      "Running Monte Carlo simulation number 220.\n",
      "Running Monte Carlo simulation number 230.\n",
      "Running Monte Carlo simulation number 240.\n",
      "Running Monte Carlo simulation number 250.\n",
      "Running Monte Carlo simulation number 260.\n",
      "Running Monte Carlo simulation number 270.\n",
      "Running Monte Carlo simulation number 280.\n",
      "Running Monte Carlo simulation number 290.\n",
      "Running Monte Carlo simulation number 300.\n",
      "Running Monte Carlo simulation number 310.\n",
      "Running Monte Carlo simulation number 320.\n",
      "Running Monte Carlo simulation number 330.\n",
      "Running Monte Carlo simulation number 340.\n",
      "Running Monte Carlo simulation number 350.\n",
      "Running Monte Carlo simulation number 360.\n",
      "Running Monte Carlo simulation number 370.\n",
      "Running Monte Carlo simulation number 380.\n",
      "Running Monte Carlo simulation number 390.\n",
      "Running Monte Carlo simulation number 400.\n",
      "Running Monte Carlo simulation number 410.\n",
      "Running Monte Carlo simulation number 420.\n",
      "Running Monte Carlo simulation number 430.\n",
      "Running Monte Carlo simulation number 440.\n",
      "Running Monte Carlo simulation number 450.\n",
      "Running Monte Carlo simulation number 460.\n",
      "Running Monte Carlo simulation number 470.\n",
      "Running Monte Carlo simulation number 480.\n",
      "Running Monte Carlo simulation number 490.\n"
     ]
    },
    {
     "data": {
      "image/png": "[encoded data removed]",
      "text/plain": [
       "<Figure size 432x288 with 1 Axes>"
      ]
     },
     "metadata": {
      "needs_background": "light"
     },
     "output_type": "display_data"
    }
   ],
   "source": [
    "\n",
    "MC_port = MCSimulation(\n",
    "    portfolio_data = ticker_data,\n",
    "    weights = [.40, .60],\n",
    "    num_simulation = 500,\n",
    "    num_trading_days = 252*30\n",
    ")\n",
    "\n",
    "line_plot = MC_port.plot_simulation()"
   ]
  },
  {
   "cell_type": "code",
   "execution_count": 86,
   "metadata": {},
   "outputs": [
    {
     "name": "stdout",
     "output_type": "stream",
     "text": [
      "Running Monte Carlo simulation number 0.\n",
      "Running Monte Carlo simulation number 10.\n",
      "Running Monte Carlo simulation number 20.\n",
      "Running Monte Carlo simulation number 30.\n",
      "Running Monte Carlo simulation number 40.\n",
      "Running Monte Carlo simulation number 50.\n",
      "Running Monte Carlo simulation number 60.\n",
      "Running Monte Carlo simulation number 70.\n",
      "Running Monte Carlo simulation number 80.\n",
      "Running Monte Carlo simulation number 90.\n",
      "Running Monte Carlo simulation number 100.\n",
      "Running Monte Carlo simulation number 110.\n",
      "Running Monte Carlo simulation number 120.\n",
      "Running Monte Carlo simulation number 130.\n",
      "Running Monte Carlo simulation number 140.\n",
      "Running Monte Carlo simulation number 150.\n",
      "Running Monte Carlo simulation number 160.\n",
      "Running Monte Carlo simulation number 170.\n",
      "Running Monte Carlo simulation number 180.\n",
      "Running Monte Carlo simulation number 190.\n",
      "Running Monte Carlo simulation number 200.\n",
      "Running Monte Carlo simulation number 210.\n",
      "Running Monte Carlo simulation number 220.\n",
      "Running Monte Carlo simulation number 230.\n",
      "Running Monte Carlo simulation number 240.\n",
      "Running Monte Carlo simulation number 250.\n",
      "Running Monte Carlo simulation number 260.\n",
      "Running Monte Carlo simulation number 270.\n",
      "Running Monte Carlo simulation number 280.\n",
      "Running Monte Carlo simulation number 290.\n",
      "Running Monte Carlo simulation number 300.\n",
      "Running Monte Carlo simulation number 310.\n",
      "Running Monte Carlo simulation number 320.\n",
      "Running Monte Carlo simulation number 330.\n",
      "Running Monte Carlo simulation number 340.\n",
      "Running Monte Carlo simulation number 350.\n",
      "Running Monte Carlo simulation number 360.\n",
      "Running Monte Carlo simulation number 370.\n",
      "Running Monte Carlo simulation number 380.\n",
      "Running Monte Carlo simulation number 390.\n",
      "Running Monte Carlo simulation number 400.\n",
      "Running Monte Carlo simulation number 410.\n",
      "Running Monte Carlo simulation number 420.\n",
      "Running Monte Carlo simulation number 430.\n",
      "Running Monte Carlo simulation number 440.\n",
      "Running Monte Carlo simulation number 450.\n",
      "Running Monte Carlo simulation number 460.\n",
      "Running Monte Carlo simulation number 470.\n",
      "Running Monte Carlo simulation number 480.\n",
      "Running Monte Carlo simulation number 490.\n"
     ]
    },
    {
     "data": {
      "text/html": [
       "<div>\n",
       "<style scoped>\n",
       "    .dataframe tbody tr th:only-of-type {\n",
       "        vertical-align: middle;\n",
       "    }\n",
       "\n",
       "    .dataframe tbody tr th {\n",
       "        vertical-align: top;\n",
       "    }\n",
       "\n",
       "    .dataframe thead th {\n",
       "        text-align: right;\n",
       "    }\n",
       "</style>\n",
       "<table border=\"1\" class=\"dataframe\">\n",
       "  <thead>\n",
       "    <tr style=\"text-align: right;\">\n",
       "      <th></th>\n",
       "      <th>0</th>\n",
       "      <th>1</th>\n",
       "      <th>2</th>\n",
       "      <th>3</th>\n",
       "      <th>4</th>\n",
       "      <th>5</th>\n",
       "      <th>6</th>\n",
       "      <th>7</th>\n",
       "      <th>8</th>\n",
       "      <th>9</th>\n",
       "      <th>...</th>\n",
       "      <th>490</th>\n",
       "      <th>491</th>\n",
       "      <th>492</th>\n",
       "      <th>493</th>\n",
       "      <th>494</th>\n",
       "      <th>495</th>\n",
       "      <th>496</th>\n",
       "      <th>497</th>\n",
       "      <th>498</th>\n",
       "      <th>499</th>\n",
       "    </tr>\n",
       "  </thead>\n",
       "  <tbody>\n",
       "    <tr>\n",
       "      <th>0</th>\n",
       "      <td>1.000000</td>\n",
       "      <td>1.000000</td>\n",
       "      <td>1.000000</td>\n",
       "      <td>1.000000</td>\n",
       "      <td>1.000000</td>\n",
       "      <td>1.000000</td>\n",
       "      <td>1.000000</td>\n",
       "      <td>1.000000</td>\n",
       "      <td>1.000000</td>\n",
       "      <td>1.000000</td>\n",
       "      <td>...</td>\n",
       "      <td>1.000000</td>\n",
       "      <td>1.000000</td>\n",
       "      <td>1.000000</td>\n",
       "      <td>1.000000</td>\n",
       "      <td>1.000000</td>\n",
       "      <td>1.000000</td>\n",
       "      <td>1.000000</td>\n",
       "      <td>1.000000</td>\n",
       "      <td>1.000000</td>\n",
       "      <td>1.000000</td>\n",
       "    </tr>\n",
       "    <tr>\n",
       "      <th>1</th>\n",
       "      <td>1.007379</td>\n",
       "      <td>1.002746</td>\n",
       "      <td>1.012658</td>\n",
       "      <td>0.994633</td>\n",
       "      <td>1.003386</td>\n",
       "      <td>0.983135</td>\n",
       "      <td>0.998414</td>\n",
       "      <td>1.007870</td>\n",
       "      <td>0.982198</td>\n",
       "      <td>0.990417</td>\n",
       "      <td>...</td>\n",
       "      <td>0.995286</td>\n",
       "      <td>0.998181</td>\n",
       "      <td>0.998720</td>\n",
       "      <td>1.010079</td>\n",
       "      <td>0.999747</td>\n",
       "      <td>1.004492</td>\n",
       "      <td>0.995972</td>\n",
       "      <td>0.991165</td>\n",
       "      <td>1.009226</td>\n",
       "      <td>0.997475</td>\n",
       "    </tr>\n",
       "    <tr>\n",
       "      <th>2</th>\n",
       "      <td>1.021167</td>\n",
       "      <td>1.011276</td>\n",
       "      <td>1.024842</td>\n",
       "      <td>1.010019</td>\n",
       "      <td>1.013122</td>\n",
       "      <td>0.986130</td>\n",
       "      <td>0.998834</td>\n",
       "      <td>1.010004</td>\n",
       "      <td>0.976955</td>\n",
       "      <td>0.993307</td>\n",
       "      <td>...</td>\n",
       "      <td>0.998533</td>\n",
       "      <td>0.996246</td>\n",
       "      <td>1.001282</td>\n",
       "      <td>1.011584</td>\n",
       "      <td>1.003199</td>\n",
       "      <td>1.000854</td>\n",
       "      <td>0.997689</td>\n",
       "      <td>0.984752</td>\n",
       "      <td>1.009839</td>\n",
       "      <td>0.989616</td>\n",
       "    </tr>\n",
       "    <tr>\n",
       "      <th>3</th>\n",
       "      <td>1.027588</td>\n",
       "      <td>1.011688</td>\n",
       "      <td>1.030049</td>\n",
       "      <td>1.012713</td>\n",
       "      <td>0.997242</td>\n",
       "      <td>0.979753</td>\n",
       "      <td>1.002995</td>\n",
       "      <td>1.008619</td>\n",
       "      <td>0.960551</td>\n",
       "      <td>0.986400</td>\n",
       "      <td>...</td>\n",
       "      <td>0.996256</td>\n",
       "      <td>0.981890</td>\n",
       "      <td>0.995589</td>\n",
       "      <td>1.012704</td>\n",
       "      <td>1.001203</td>\n",
       "      <td>1.009293</td>\n",
       "      <td>0.989141</td>\n",
       "      <td>0.985469</td>\n",
       "      <td>1.010788</td>\n",
       "      <td>1.001570</td>\n",
       "    </tr>\n",
       "    <tr>\n",
       "      <th>4</th>\n",
       "      <td>1.027879</td>\n",
       "      <td>1.005401</td>\n",
       "      <td>1.030603</td>\n",
       "      <td>1.010591</td>\n",
       "      <td>1.004729</td>\n",
       "      <td>0.988584</td>\n",
       "      <td>1.002110</td>\n",
       "      <td>1.006423</td>\n",
       "      <td>0.963329</td>\n",
       "      <td>0.976057</td>\n",
       "      <td>...</td>\n",
       "      <td>0.996431</td>\n",
       "      <td>0.981010</td>\n",
       "      <td>1.000770</td>\n",
       "      <td>1.018188</td>\n",
       "      <td>0.992526</td>\n",
       "      <td>1.013100</td>\n",
       "      <td>0.983111</td>\n",
       "      <td>0.983931</td>\n",
       "      <td>1.008577</td>\n",
       "      <td>1.007606</td>\n",
       "    </tr>\n",
       "    <tr>\n",
       "      <th>...</th>\n",
       "      <td>...</td>\n",
       "      <td>...</td>\n",
       "      <td>...</td>\n",
       "      <td>...</td>\n",
       "      <td>...</td>\n",
       "      <td>...</td>\n",
       "      <td>...</td>\n",
       "      <td>...</td>\n",
       "      <td>...</td>\n",
       "      <td>...</td>\n",
       "      <td>...</td>\n",
       "      <td>...</td>\n",
       "      <td>...</td>\n",
       "      <td>...</td>\n",
       "      <td>...</td>\n",
       "      <td>...</td>\n",
       "      <td>...</td>\n",
       "      <td>...</td>\n",
       "      <td>...</td>\n",
       "      <td>...</td>\n",
       "      <td>...</td>\n",
       "    </tr>\n",
       "    <tr>\n",
       "      <th>7556</th>\n",
       "      <td>9.959059</td>\n",
       "      <td>21.515789</td>\n",
       "      <td>13.297889</td>\n",
       "      <td>44.630341</td>\n",
       "      <td>9.513757</td>\n",
       "      <td>39.979848</td>\n",
       "      <td>14.601322</td>\n",
       "      <td>12.971275</td>\n",
       "      <td>17.894989</td>\n",
       "      <td>8.640189</td>\n",
       "      <td>...</td>\n",
       "      <td>43.321684</td>\n",
       "      <td>45.188462</td>\n",
       "      <td>15.675190</td>\n",
       "      <td>56.423306</td>\n",
       "      <td>19.621154</td>\n",
       "      <td>54.779040</td>\n",
       "      <td>22.344064</td>\n",
       "      <td>33.173023</td>\n",
       "      <td>37.755912</td>\n",
       "      <td>15.318626</td>\n",
       "    </tr>\n",
       "    <tr>\n",
       "      <th>7557</th>\n",
       "      <td>10.026603</td>\n",
       "      <td>21.630292</td>\n",
       "      <td>13.228683</td>\n",
       "      <td>45.071238</td>\n",
       "      <td>9.479386</td>\n",
       "      <td>39.545955</td>\n",
       "      <td>14.581997</td>\n",
       "      <td>13.126522</td>\n",
       "      <td>17.943183</td>\n",
       "      <td>8.573379</td>\n",
       "      <td>...</td>\n",
       "      <td>43.568100</td>\n",
       "      <td>45.722817</td>\n",
       "      <td>15.609050</td>\n",
       "      <td>56.263501</td>\n",
       "      <td>19.638762</td>\n",
       "      <td>54.918693</td>\n",
       "      <td>22.243411</td>\n",
       "      <td>33.485867</td>\n",
       "      <td>37.144880</td>\n",
       "      <td>15.374660</td>\n",
       "    </tr>\n",
       "    <tr>\n",
       "      <th>7558</th>\n",
       "      <td>10.046155</td>\n",
       "      <td>21.683962</td>\n",
       "      <td>13.138838</td>\n",
       "      <td>44.772346</td>\n",
       "      <td>9.405803</td>\n",
       "      <td>39.437051</td>\n",
       "      <td>14.689813</td>\n",
       "      <td>13.214109</td>\n",
       "      <td>17.994541</td>\n",
       "      <td>8.622565</td>\n",
       "      <td>...</td>\n",
       "      <td>43.040256</td>\n",
       "      <td>45.842537</td>\n",
       "      <td>15.890695</td>\n",
       "      <td>56.090715</td>\n",
       "      <td>19.841341</td>\n",
       "      <td>55.069800</td>\n",
       "      <td>22.063282</td>\n",
       "      <td>33.596182</td>\n",
       "      <td>37.353070</td>\n",
       "      <td>15.404653</td>\n",
       "    </tr>\n",
       "    <tr>\n",
       "      <th>7559</th>\n",
       "      <td>10.090078</td>\n",
       "      <td>21.663729</td>\n",
       "      <td>13.032348</td>\n",
       "      <td>44.968345</td>\n",
       "      <td>9.452656</td>\n",
       "      <td>39.290786</td>\n",
       "      <td>14.949286</td>\n",
       "      <td>13.097794</td>\n",
       "      <td>18.089234</td>\n",
       "      <td>8.709988</td>\n",
       "      <td>...</td>\n",
       "      <td>43.085685</td>\n",
       "      <td>45.667982</td>\n",
       "      <td>15.788588</td>\n",
       "      <td>56.360703</td>\n",
       "      <td>19.653361</td>\n",
       "      <td>55.299362</td>\n",
       "      <td>22.188043</td>\n",
       "      <td>33.997790</td>\n",
       "      <td>36.735696</td>\n",
       "      <td>15.300148</td>\n",
       "    </tr>\n",
       "    <tr>\n",
       "      <th>7560</th>\n",
       "      <td>9.951277</td>\n",
       "      <td>21.539276</td>\n",
       "      <td>13.025955</td>\n",
       "      <td>45.276374</td>\n",
       "      <td>9.505894</td>\n",
       "      <td>39.106880</td>\n",
       "      <td>14.995290</td>\n",
       "      <td>13.052215</td>\n",
       "      <td>18.061550</td>\n",
       "      <td>8.706871</td>\n",
       "      <td>...</td>\n",
       "      <td>43.151020</td>\n",
       "      <td>46.444883</td>\n",
       "      <td>15.729393</td>\n",
       "      <td>56.268570</td>\n",
       "      <td>19.769132</td>\n",
       "      <td>55.985432</td>\n",
       "      <td>22.011659</td>\n",
       "      <td>33.405308</td>\n",
       "      <td>36.446105</td>\n",
       "      <td>15.190809</td>\n",
       "    </tr>\n",
       "  </tbody>\n",
       "</table>\n",
       "<p>7561 rows × 500 columns</p>\n",
       "</div>"
      ],
      "text/plain": [
       "            0          1          2          3         4          5    \\\n",
       "0      1.000000   1.000000   1.000000   1.000000  1.000000   1.000000   \n",
       "1      1.007379   1.002746   1.012658   0.994633  1.003386   0.983135   \n",
       "2      1.021167   1.011276   1.024842   1.010019  1.013122   0.986130   \n",
       "3      1.027588   1.011688   1.030049   1.012713  0.997242   0.979753   \n",
       "4      1.027879   1.005401   1.030603   1.010591  1.004729   0.988584   \n",
       "...         ...        ...        ...        ...       ...        ...   \n",
       "7556   9.959059  21.515789  13.297889  44.630341  9.513757  39.979848   \n",
       "7557  10.026603  21.630292  13.228683  45.071238  9.479386  39.545955   \n",
       "7558  10.046155  21.683962  13.138838  44.772346  9.405803  39.437051   \n",
       "7559  10.090078  21.663729  13.032348  44.968345  9.452656  39.290786   \n",
       "7560   9.951277  21.539276  13.025955  45.276374  9.505894  39.106880   \n",
       "\n",
       "            6          7          8         9    ...        490        491  \\\n",
       "0      1.000000   1.000000   1.000000  1.000000  ...   1.000000   1.000000   \n",
       "1      0.998414   1.007870   0.982198  0.990417  ...   0.995286   0.998181   \n",
       "2      0.998834   1.010004   0.976955  0.993307  ...   0.998533   0.996246   \n",
       "3      1.002995   1.008619   0.960551  0.986400  ...   0.996256   0.981890   \n",
       "4      1.002110   1.006423   0.963329  0.976057  ...   0.996431   0.981010   \n",
       "...         ...        ...        ...       ...  ...        ...        ...   \n",
       "7556  14.601322  12.971275  17.894989  8.640189  ...  43.321684  45.188462   \n",
       "7557  14.581997  13.126522  17.943183  8.573379  ...  43.568100  45.722817   \n",
       "7558  14.689813  13.214109  17.994541  8.622565  ...  43.040256  45.842537   \n",
       "7559  14.949286  13.097794  18.089234  8.709988  ...  43.085685  45.667982   \n",
       "7560  14.995290  13.052215  18.061550  8.706871  ...  43.151020  46.444883   \n",
       "\n",
       "            492        493        494        495        496        497  \\\n",
       "0      1.000000   1.000000   1.000000   1.000000   1.000000   1.000000   \n",
       "1      0.998720   1.010079   0.999747   1.004492   0.995972   0.991165   \n",
       "2      1.001282   1.011584   1.003199   1.000854   0.997689   0.984752   \n",
       "3      0.995589   1.012704   1.001203   1.009293   0.989141   0.985469   \n",
       "4      1.000770   1.018188   0.992526   1.013100   0.983111   0.983931   \n",
       "...         ...        ...        ...        ...        ...        ...   \n",
       "7556  15.675190  56.423306  19.621154  54.779040  22.344064  33.173023   \n",
       "7557  15.609050  56.263501  19.638762  54.918693  22.243411  33.485867   \n",
       "7558  15.890695  56.090715  19.841341  55.069800  22.063282  33.596182   \n",
       "7559  15.788588  56.360703  19.653361  55.299362  22.188043  33.997790   \n",
       "7560  15.729393  56.268570  19.769132  55.985432  22.011659  33.405308   \n",
       "\n",
       "            498        499  \n",
       "0      1.000000   1.000000  \n",
       "1      1.009226   0.997475  \n",
       "2      1.009839   0.989616  \n",
       "3      1.010788   1.001570  \n",
       "4      1.008577   1.007606  \n",
       "...         ...        ...  \n",
       "7556  37.755912  15.318626  \n",
       "7557  37.144880  15.374660  \n",
       "7558  37.353070  15.404653  \n",
       "7559  36.735696  15.300148  \n",
       "7560  36.446105  15.190809  \n",
       "\n",
       "[7561 rows x 500 columns]"
      ]
     },
     "execution_count": 86,
     "metadata": {},
     "output_type": "execute_result"
    }
   ],
   "source": [
    "# Running a Monte Carlo simulation to forecast 30 years cumulative returns\n",
    "MC_port.calc_cumulative_return()"
   ]
  },
  {
   "cell_type": "code",
   "execution_count": 87,
   "metadata": {},
   "outputs": [
    {
     "data": {
      "image/png": "[encoded data removed]",
      "text/plain": [
       "<Figure size 432x288 with 1 Axes>"
      ]
     },
     "metadata": {
      "needs_background": "light"
     },
     "output_type": "display_data"
    }
   ],
   "source": [
    "# Plot probability distribution and confidence intervals\n",
    "dist_plot = MC_port.plot_distribution()"
   ]
  },
  {
   "cell_type": "markdown",
   "metadata": {},
   "source": [
    "### Retirement Analysis"
   ]
  },
  {
   "cell_type": "code",
   "execution_count": 89,
   "metadata": {},
   "outputs": [
    {
     "data": {
      "text/plain": [
       "count           500.000000\n",
       "mean             20.975525\n",
       "std              16.074412\n",
       "min               1.783358\n",
       "25%              10.555431\n",
       "50%              16.387017\n",
       "75%              25.541108\n",
       "max             123.323925\n",
       "95% CI Lower      4.594931\n",
       "95% CI Upper     62.714372\n",
       "Name: 7560, dtype: float64"
      ]
     },
     "execution_count": 89,
     "metadata": {},
     "output_type": "execute_result"
    }
   ],
   "source": [
    "# Fetch summary statistics from the Monte Carlo simulation results\n",
    "summary_stats = MC_port.summarize_cumulative_return()\n",
    "\n",
    "summary_stats\n",
    "# Print summary statistics\n"
   ]
  },
  {
   "cell_type": "markdown",
   "metadata": {},
   "source": [
    "### Calculate the expected portfolio return at the 95% lower and upper confidence intervals based on a `$20,000` initial investment."
   ]
  },
  {
   "cell_type": "code",
   "execution_count": 91,
   "metadata": {},
   "outputs": [
    {
     "name": "stdout",
     "output_type": "stream",
     "text": [
      "There is a 95% chance that an initial investment of $20000 in the portfolio over the next 30 years will end within in the range of $91898.61 and $1254287.44\n"
     ]
    }
   ],
   "source": [
    "# Set initial investment\n",
    "initial_investment = 20000\n",
    "\n",
    "# Use the lower and upper `95%` confidence intervals to calculate the range of the possible outcomes of our $20,000\n",
    "ci_lower = round((summary_stats[8])*initial_investment,2)\n",
    "ci_upper = round((summary_stats[9])*initial_investment,2)\n",
    "\n",
    "# Print results\n",
    "print(f\"There is a 95% chance that an initial investment of ${initial_investment} in the portfolio\"\n",
    "      f\" over the next 30 years will end within in the range of\"\n",
    "      f\" ${ci_lower} and ${ci_upper}\")"
   ]
  },
  {
   "cell_type": "markdown",
   "metadata": {},
   "source": [
    "### Calculate the expected portfolio return at the `95%` lower and upper confidence intervals based on a `50%` increase in the initial investment."
   ]
  },
  {
   "cell_type": "code",
   "execution_count": 93,
   "metadata": {},
   "outputs": [
    {
     "name": "stdout",
     "output_type": "stream",
     "text": [
      "There is a 95% chance that an initial investment of $30000.0 in the portfolio over the next 30 years will end within in the range of $137847.92 and $1881431.16\n"
     ]
    }
   ],
   "source": [
    "# Set initial investment\n",
    "initial_investment = 20000 * 1.5\n",
    "\n",
    "# Use the lower and upper `95%` confidence intervals to calculate the range of the possible outcomes of our $30,000\n",
    "ci_lower = round((summary_stats[8])*initial_investment,2)\n",
    "ci_upper = round((summary_stats[9])*initial_investment,2)\n",
    "\n",
    "# Print results\n",
    "print(f\"There is a 95% chance that an initial investment of ${initial_investment} in the portfolio\"\n",
    "      f\" over the next 30 years will end within in the range of\"\n",
    "      f\" ${ci_lower} and ${ci_upper}\")"
   ]
  },
  {
   "cell_type": "markdown",
   "metadata": {},
   "source": [
    "## Optional Challenge - Early Retirement\n",
    "\n",
    "\n",
    "### Five Years Retirement Option"
   ]
  },
  {
   "cell_type": "code",
   "execution_count": null,
   "metadata": {},
   "outputs": [],
   "source": [
    "# Configuring a Monte Carlo simulation to forecast 5 years cumulative returns\n",
    "# YOUR CODE HERE!"
   ]
  },
  {
   "cell_type": "code",
   "execution_count": null,
   "metadata": {},
   "outputs": [],
   "source": [
    "# Running a Monte Carlo simulation to forecast 5 years cumulative returns\n",
    "# YOUR CODE HERE!"
   ]
  },
  {
   "cell_type": "code",
   "execution_count": null,
   "metadata": {},
   "outputs": [],
   "source": [
    "# Plot simulation outcomes\n",
    "# YOUR CODE HERE!"
   ]
  },
  {
   "cell_type": "code",
   "execution_count": null,
   "metadata": {},
   "outputs": [],
   "source": [
    "# Plot probability distribution and confidence intervals\n",
    "# YOUR CODE HERE!"
   ]
  },
  {
   "cell_type": "code",
   "execution_count": null,
   "metadata": {},
   "outputs": [],
   "source": [
    "# Fetch summary statistics from the Monte Carlo simulation results\n",
    "# YOUR CODE HERE!\n",
    "\n",
    "# Print summary statistics\n",
    "# YOUR CODE HERE!"
   ]
  },
  {
   "cell_type": "code",
   "execution_count": null,
   "metadata": {},
   "outputs": [],
   "source": [
    "# Set initial investment\n",
    "# YOUR CODE HERE!\n",
    "\n",
    "# Use the lower and upper `95%` confidence intervals to calculate the range of the possible outcomes of our $60,000\n",
    "# YOUR CODE HERE!\n",
    "\n",
    "# Print results\n",
    "print(f\"There is a 95% chance that an initial investment of ${initial_investment} in the portfolio\"\n",
    "      f\" over the next 5 years will end within in the range of\"\n",
    "      f\" ${ci_lower_five} and ${ci_upper_five}\")"
   ]
  },
  {
   "cell_type": "markdown",
   "metadata": {},
   "source": [
    "### Ten Years Retirement Option"
   ]
  },
  {
   "cell_type": "code",
   "execution_count": null,
   "metadata": {},
   "outputs": [],
   "source": [
    "# Configuring a Monte Carlo simulation to forecast 10 years cumulative returns\n",
    "# YOUR CODE HERE!"
   ]
  },
  {
   "cell_type": "code",
   "execution_count": null,
   "metadata": {},
   "outputs": [],
   "source": [
    "# Running a Monte Carlo simulation to forecast 10 years cumulative returns\n",
    "# YOUR CODE HERE!"
   ]
  },
  {
   "cell_type": "code",
   "execution_count": null,
   "metadata": {},
   "outputs": [],
   "source": [
    "# Plot simulation outcomes\n",
    "# YOUR CODE HERE!"
   ]
  },
  {
   "cell_type": "code",
   "execution_count": null,
   "metadata": {},
   "outputs": [],
   "source": [
    "# Plot probability distribution and confidence intervals\n",
    "# YOUR CODE HERE!"
   ]
  },
  {
   "cell_type": "code",
   "execution_count": null,
   "metadata": {},
   "outputs": [],
   "source": [
    "# Fetch summary statistics from the Monte Carlo simulation results\n",
    "# YOUR CODE HERE!\n",
    "\n",
    "# Print summary statistics\n",
    "# YOUR CODE HERE!"
   ]
  },
  {
   "cell_type": "code",
   "execution_count": null,
   "metadata": {},
   "outputs": [],
   "source": [
    "# Set initial investment\n",
    "# YOUR CODE HERE!\n",
    "\n",
    "# Use the lower and upper `95%` confidence intervals to calculate the range of the possible outcomes of our $60,000\n",
    "# YOUR CODE HERE!\n",
    "\n",
    "# Print results\n",
    "print(f\"There is a 95% chance that an initial investment of ${initial_investment} in the portfolio\"\n",
    "      f\" over the next 10 years will end within in the range of\"\n",
    "      f\" ${ci_lower_ten} and ${ci_upper_ten}\")"
   ]
  }
 ],
 "metadata": {
  "kernelspec": {
   "display_name": "Python 3",
   "language": "python",
   "name": "python3"
  },
  "language_info": {
   "codemirror_mode": {
    "name": "ipython",
    "version": 3
   },
   "file_extension": ".py",
   "mimetype": "text/x-python",
   "name": "python",
   "nbconvert_exporter": "python",
   "pygments_lexer": "ipython3",
   "version": "3.8.5"
  }
 },
 "nbformat": 4,
 "nbformat_minor": 4
}
