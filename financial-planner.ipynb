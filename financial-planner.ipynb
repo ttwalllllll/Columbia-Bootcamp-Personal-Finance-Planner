{
 "cells": [
  {
   "cell_type": "markdown",
   "metadata": {},
   "source": [
    "# Unit 5 - Financial Planning\n"
   ]
  },
  {
   "cell_type": "code",
   "execution_count": 1,
   "metadata": {},
   "outputs": [],
   "source": [
    "# Initial imports\n",
    "import os\n",
    "import requests\n",
    "import pandas as pd\n",
    "from dotenv import load_dotenv\n",
    "import alpaca_trade_api as tradeapi\n",
    "from MCForecastTools import MCSimulation\n",
    "import json\n",
    "\n",
    "%matplotlib inline"
   ]
  },
  {
   "cell_type": "code",
   "execution_count": 2,
   "metadata": {},
   "outputs": [
    {
     "data": {
      "text/plain": [
       "True"
      ]
     },
     "execution_count": 2,
     "metadata": {},
     "output_type": "execute_result"
    }
   ],
   "source": [
    "# Load .env enviroment variables\n",
    "load_dotenv('Alpaca/alpaca_keys.env')"
   ]
  },
  {
   "cell_type": "code",
   "execution_count": 3,
   "metadata": {},
   "outputs": [],
   "source": [
    "alpaca_api_key = os.getenv(\"alpaca_api_key\")\n",
    "alpaca_secret_key = os.getenv(\"alpaca_secret_key\")"
   ]
  },
  {
   "cell_type": "markdown",
   "metadata": {},
   "source": [
    "## Part 1 - Personal Finance Planner"
   ]
  },
  {
   "cell_type": "markdown",
   "metadata": {},
   "source": [
    "### Collect Crypto Prices Using the `requests` Library"
   ]
  },
  {
   "cell_type": "code",
   "execution_count": 4,
   "metadata": {},
   "outputs": [],
   "source": [
    "# Set current amount of crypto assets\n",
    "\n",
    "crypto_shares = {\n",
    "    \"btc\": 1.2,\n",
    "    \"eth\": 5.3,\n",
    "}\n",
    "\n",
    "my_btc = crypto_shares['btc']\n",
    "my_eth = crypto_shares['eth']\n",
    "\n"
   ]
  },
  {
   "cell_type": "code",
   "execution_count": 5,
   "metadata": {},
   "outputs": [],
   "source": [
    "# Crypto API URLs\n",
    "btc_url = \"https://api.alternative.me/v2/ticker/Bitcoin/?convert=CAD\"\n",
    "eth_url = \"https://api.alternative.me/v2/ticker/Ethereum/?convert=CAD\""
   ]
  },
  {
   "cell_type": "code",
   "execution_count": 6,
   "metadata": {},
   "outputs": [
    {
     "name": "stdout",
     "output_type": "stream",
     "text": [
      "The current value of your 1.2 BTC is $54868.00\n",
      "The current value of your 5.3 ETH is $2635.88\n"
     ]
    }
   ],
   "source": [
    "# Fetch current BTC price\n",
    "\n",
    "## Submit request and format output\n",
    "my_btc_request = requests.get(btc_url).json()\n",
    "\n",
    "###print(json.dumps(my_btc_value, indent=4))\n",
    "my_btc_value = my_btc_request['data']['1']['quotes']['USD']['price']\n",
    "#print(my_btc_value)\n",
    "\n",
    "#Fetch current ETH price \n",
    "my_eth_request = requests.get(eth_url).json()\n",
    "\n",
    "#print(json.dumps(my_eth_request, indent=4))\n",
    "\n",
    "my_eth_value = my_eth_request['data']['1027']['quotes']['USD']['price']\n",
    "\n",
    "#print(my_eth_value)\n",
    "# Compute current value of my crpto\n",
    "\n",
    "\n",
    "# Print current crypto wallet balance\n",
    "print(f\"The current value of your {my_btc} BTC is ${my_btc_value:0.2f}\")\n",
    "print(f\"The current value of your {my_eth} ETH is ${my_eth_value:0.2f}\")"
   ]
  },
  {
   "cell_type": "markdown",
   "metadata": {},
   "source": [
    "### Collect Investments Data Using Alpaca: `SPY` (stocks) and `AGG` (bonds)"
   ]
  },
  {
   "cell_type": "code",
   "execution_count": 7,
   "metadata": {},
   "outputs": [],
   "source": [
    "# Current amount of shares\n",
    "shares_data = {\n",
    "    \"shares\": [200, 50]\n",
    "}\n",
    "my_agg = shares_data['shares'][0]\n",
    "my_spy = shares_data['shares'][1]\n"
   ]
  },
  {
   "cell_type": "code",
   "execution_count": 8,
   "metadata": {},
   "outputs": [],
   "source": [
    "# Set Alpaca API key and secret\n",
    "#done\n",
    "\n",
    "# Create the Alpaca API object\n",
    "api = tradeapi.REST(\n",
    "    alpaca_api_key,\n",
    "    alpaca_secret_key,\n",
    "    api_version = \"v2\"\n",
    ")"
   ]
  },
  {
   "cell_type": "code",
   "execution_count": 9,
   "metadata": {},
   "outputs": [
    {
     "data": {
      "text/html": [
       "<div>\n",
       "<style scoped>\n",
       "    .dataframe tbody tr th:only-of-type {\n",
       "        vertical-align: middle;\n",
       "    }\n",
       "\n",
       "    .dataframe tbody tr th {\n",
       "        vertical-align: top;\n",
       "    }\n",
       "\n",
       "    .dataframe thead tr th {\n",
       "        text-align: left;\n",
       "    }\n",
       "\n",
       "    .dataframe thead tr:last-of-type th {\n",
       "        text-align: right;\n",
       "    }\n",
       "</style>\n",
       "<table border=\"1\" class=\"dataframe\">\n",
       "  <thead>\n",
       "    <tr>\n",
       "      <th></th>\n",
       "      <th colspan=\"5\" halign=\"left\">AGG</th>\n",
       "      <th colspan=\"5\" halign=\"left\">SPY</th>\n",
       "    </tr>\n",
       "    <tr>\n",
       "      <th></th>\n",
       "      <th>open</th>\n",
       "      <th>high</th>\n",
       "      <th>low</th>\n",
       "      <th>close</th>\n",
       "      <th>volume</th>\n",
       "      <th>open</th>\n",
       "      <th>high</th>\n",
       "      <th>low</th>\n",
       "      <th>close</th>\n",
       "      <th>volume</th>\n",
       "    </tr>\n",
       "    <tr>\n",
       "      <th>time</th>\n",
       "      <th></th>\n",
       "      <th></th>\n",
       "      <th></th>\n",
       "      <th></th>\n",
       "      <th></th>\n",
       "      <th></th>\n",
       "      <th></th>\n",
       "      <th></th>\n",
       "      <th></th>\n",
       "      <th></th>\n",
       "    </tr>\n",
       "  </thead>\n",
       "  <tbody>\n",
       "    <tr>\n",
       "      <th>2021-04-19 00:00:00-04:00</th>\n",
       "      <td>114</td>\n",
       "      <td>114.5</td>\n",
       "      <td>114</td>\n",
       "      <td>114.44</td>\n",
       "      <td>4820664</td>\n",
       "      <td>416.26</td>\n",
       "      <td>416.74</td>\n",
       "      <td>413.79</td>\n",
       "      <td>415.24</td>\n",
       "      <td>66226327</td>\n",
       "    </tr>\n",
       "  </tbody>\n",
       "</table>\n",
       "</div>"
      ],
      "text/plain": [
       "                           AGG                                  SPY          \\\n",
       "                          open   high  low   close   volume    open    high   \n",
       "time                                                                          \n",
       "2021-04-19 00:00:00-04:00  114  114.5  114  114.44  4820664  416.26  416.74   \n",
       "\n",
       "                                                     \n",
       "                              low   close    volume  \n",
       "time                                                 \n",
       "2021-04-19 00:00:00-04:00  413.79  415.24  66226327  "
      ]
     },
     "execution_count": 9,
     "metadata": {},
     "output_type": "execute_result"
    }
   ],
   "source": [
    "# Format current date as ISO format\n",
    "start_date = pd.Timestamp(\"2021-04-18\", tz=\"America/New_York\").isoformat()\n",
    "end_date = pd.Timestamp(\"2021-04-19\", tz=\"America/New_York\").isoformat()\n",
    "# Set the tickers\n",
    "tickers = [\"AGG\", \"SPY\"]\n",
    "\n",
    "# Set timeframe to '1D' for Alpaca API\n",
    "timeframe = \"1D\"\n",
    "\n",
    "# Get current closing prices for SPY and AGG\n",
    "\n",
    "ticker_data = api.get_barset(\n",
    "    tickers,\n",
    "    timeframe,\n",
    "    start=start_date,\n",
    "    end=end_date,\n",
    "    limit=1000,\n",
    ").df\n",
    "\n",
    "# Preview DataFrame\n",
    "ticker_data.head()"
   ]
  },
  {
   "cell_type": "code",
   "execution_count": 10,
   "metadata": {},
   "outputs": [
    {
     "data": {
      "text/html": [
       "<div>\n",
       "<style scoped>\n",
       "    .dataframe tbody tr th:only-of-type {\n",
       "        vertical-align: middle;\n",
       "    }\n",
       "\n",
       "    .dataframe tbody tr th {\n",
       "        vertical-align: top;\n",
       "    }\n",
       "\n",
       "    .dataframe thead th {\n",
       "        text-align: right;\n",
       "    }\n",
       "</style>\n",
       "<table border=\"1\" class=\"dataframe\">\n",
       "  <thead>\n",
       "    <tr style=\"text-align: right;\">\n",
       "      <th></th>\n",
       "      <th>AGG</th>\n",
       "      <th>SPY</th>\n",
       "    </tr>\n",
       "  </thead>\n",
       "  <tbody>\n",
       "    <tr>\n",
       "      <th>2021-04-19</th>\n",
       "      <td>114.44</td>\n",
       "      <td>415.24</td>\n",
       "    </tr>\n",
       "  </tbody>\n",
       "</table>\n",
       "</div>"
      ],
      "text/plain": [
       "               AGG     SPY\n",
       "2021-04-19  114.44  415.24"
      ]
     },
     "execution_count": 10,
     "metadata": {},
     "output_type": "execute_result"
    }
   ],
   "source": [
    "#clean data\n",
    "df_closing_prices = pd.DataFrame()\n",
    "\n",
    "df_closing_prices['AGG'] = ticker_data['AGG']['close']\n",
    "df_closing_prices['SPY'] = ticker_data['SPY']['close']\n",
    "\n",
    "df_closing_prices.index = df_closing_prices.index.date\n",
    "df_closing_prices"
   ]
  },
  {
   "cell_type": "code",
   "execution_count": 11,
   "metadata": {},
   "outputs": [
    {
     "name": "stdout",
     "output_type": "stream",
     "text": [
      "The current value of your 50 SPY shares is $20762.00\n",
      "The current value of your 200 AGG shares is $22888.00\n"
     ]
    }
   ],
   "source": [
    "# Compute the current value of shares\n",
    "AGG_close = float(df_closing_prices['AGG'])\n",
    "SPY_close = float(df_closing_prices['SPY'])\n",
    "\n",
    "my_agg_value = AGG_close * my_agg\n",
    "my_spy_value = SPY_close * my_spy\n",
    "\n",
    "\n",
    "\n",
    "# Print current value of share\n",
    "print(f\"The current value of your {my_spy} SPY shares is ${my_spy_value:0.2f}\")\n",
    "print(f\"The current value of your {my_agg} AGG shares is ${my_agg_value:0.2f}\")"
   ]
  },
  {
   "cell_type": "markdown",
   "metadata": {},
   "source": [
    "### Savings Health Analysis"
   ]
  },
  {
   "cell_type": "code",
   "execution_count": 12,
   "metadata": {},
   "outputs": [
    {
     "data": {
      "text/html": [
       "<div>\n",
       "<style scoped>\n",
       "    .dataframe tbody tr th:only-of-type {\n",
       "        vertical-align: middle;\n",
       "    }\n",
       "\n",
       "    .dataframe tbody tr th {\n",
       "        vertical-align: top;\n",
       "    }\n",
       "\n",
       "    .dataframe thead th {\n",
       "        text-align: right;\n",
       "    }\n",
       "</style>\n",
       "<table border=\"1\" class=\"dataframe\">\n",
       "  <thead>\n",
       "    <tr style=\"text-align: right;\">\n",
       "      <th></th>\n",
       "      <th>Amount</th>\n",
       "    </tr>\n",
       "  </thead>\n",
       "  <tbody>\n",
       "    <tr>\n",
       "      <th>Crypto</th>\n",
       "      <td>57503.88</td>\n",
       "    </tr>\n",
       "    <tr>\n",
       "      <th>Stock</th>\n",
       "      <td>43650.00</td>\n",
       "    </tr>\n",
       "  </tbody>\n",
       "</table>\n",
       "</div>"
      ],
      "text/plain": [
       "          Amount\n",
       "Crypto  57503.88\n",
       "Stock   43650.00"
      ]
     },
     "execution_count": 12,
     "metadata": {},
     "output_type": "execute_result"
    }
   ],
   "source": [
    "# Set monthly household income\n",
    "monthly_income = 12000.00\n",
    "\n",
    "BTC_ETH_Value = my_btc_value + my_eth_value\n",
    "Stock_Value = my_agg_value + my_spy_value\n",
    "\n",
    "# Create savings DataFrame\n",
    "df = {\n",
    "    \"Amount\": {\n",
    "        \"Crypto\": BTC_ETH_Value,\n",
    "        \"Stock\": Stock_Value,\n",
    "    }\n",
    "    }\n",
    "\n",
    "df_savings = pd.DataFrame(df, columns = ['Amount'], index = ['Crypto','Stock'])\n",
    "df_savings\n",
    "\n"
   ]
  },
  {
   "cell_type": "code",
   "execution_count": 13,
   "metadata": {},
   "outputs": [
    {
     "data": {
      "text/plain": [
       "<AxesSubplot:ylabel='Amount'>"
      ]
     },
     "execution_count": 13,
     "metadata": {},
     "output_type": "execute_result"
    },
    {
     "data": {
      "image/png": "[encoded data removed]",
      "text/plain": [
       "<Figure size 432x288 with 1 Axes>"
      ]
     },
     "metadata": {},
     "output_type": "display_data"
    }
   ],
   "source": [
    "# Plot savings pie chart\n",
    "df_savings.plot.pie(y='Amount')"
   ]
  },
  {
   "cell_type": "code",
   "execution_count": 14,
   "metadata": {},
   "outputs": [
    {
     "name": "stdout",
     "output_type": "stream",
     "text": [
      "Congratulations for having $101153.88 in your savings. You have enough emergency funds!\n"
     ]
    }
   ],
   "source": [
    "# Set ideal emergency fund\n",
    "emergency_fund = (monthly_income * 3)\n",
    "\n",
    "# Calculate total amount of savings\n",
    "total_savings = (Stock_Value + BTC_ETH_Value)\n",
    "\n",
    "difference = (total_savings - emergency_fund) * -1\n",
    "\n",
    "#Validate saving health\n",
    "\n",
    "if (total_savings > emergency_fund) :\n",
    "    print(f'Congratulations for having ${total_savings} in your savings. You have enough emergency funds!')\n",
    "elif (total_savings == emergency_fund) : \n",
    "       print(f'Congratulations on reaching your emergency fund goal of {emergency_fund}')\n",
    "elif (total_savings < emergency_fund):\n",
    "        print(f'You are {difference} dollars away from your emergency fund')\n",
    "    "
   ]
  },
  {
   "cell_type": "markdown",
   "metadata": {},
   "source": [
    "## Part 2 - Retirement Planning\n",
    "\n",
    "### Monte Carlo Simulation"
   ]
  },
  {
   "cell_type": "code",
   "execution_count": 15,
   "metadata": {},
   "outputs": [],
   "source": [
    "# Set start and end dates of five years back from today.\n",
    "# Sample results may vary from the solution based on the time frame chosen\n",
    "start_date = pd.Timestamp('2016-04-18', tz='America/New_York').isoformat()\n",
    "end_date = pd.Timestamp('2021-04-19', tz='America/New_York').isoformat()"
   ]
  },
  {
   "cell_type": "code",
   "execution_count": 16,
   "metadata": {},
   "outputs": [
    {
     "data": {
      "text/html": [
       "<div>\n",
       "<style scoped>\n",
       "    .dataframe tbody tr th:only-of-type {\n",
       "        vertical-align: middle;\n",
       "    }\n",
       "\n",
       "    .dataframe tbody tr th {\n",
       "        vertical-align: top;\n",
       "    }\n",
       "\n",
       "    .dataframe thead tr th {\n",
       "        text-align: left;\n",
       "    }\n",
       "\n",
       "    .dataframe thead tr:last-of-type th {\n",
       "        text-align: right;\n",
       "    }\n",
       "</style>\n",
       "<table border=\"1\" class=\"dataframe\">\n",
       "  <thead>\n",
       "    <tr>\n",
       "      <th></th>\n",
       "      <th colspan=\"5\" halign=\"left\">AGG</th>\n",
       "      <th colspan=\"5\" halign=\"left\">SPY</th>\n",
       "    </tr>\n",
       "    <tr>\n",
       "      <th></th>\n",
       "      <th>open</th>\n",
       "      <th>high</th>\n",
       "      <th>low</th>\n",
       "      <th>close</th>\n",
       "      <th>volume</th>\n",
       "      <th>open</th>\n",
       "      <th>high</th>\n",
       "      <th>low</th>\n",
       "      <th>close</th>\n",
       "      <th>volume</th>\n",
       "    </tr>\n",
       "    <tr>\n",
       "      <th>time</th>\n",
       "      <th></th>\n",
       "      <th></th>\n",
       "      <th></th>\n",
       "      <th></th>\n",
       "      <th></th>\n",
       "      <th></th>\n",
       "      <th></th>\n",
       "      <th></th>\n",
       "      <th></th>\n",
       "      <th></th>\n",
       "    </tr>\n",
       "  </thead>\n",
       "  <tbody>\n",
       "    <tr>\n",
       "      <th>2017-04-28 00:00:00-04:00</th>\n",
       "      <td>108.98</td>\n",
       "      <td>109.2500</td>\n",
       "      <td>108.910</td>\n",
       "      <td>109.250</td>\n",
       "      <td>2722695</td>\n",
       "      <td>238.90</td>\n",
       "      <td>238.9300</td>\n",
       "      <td>237.930</td>\n",
       "      <td>238.10</td>\n",
       "      <td>42264701</td>\n",
       "    </tr>\n",
       "    <tr>\n",
       "      <th>2017-05-01 00:00:00-04:00</th>\n",
       "      <td>108.86</td>\n",
       "      <td>108.9599</td>\n",
       "      <td>108.620</td>\n",
       "      <td>108.735</td>\n",
       "      <td>2335646</td>\n",
       "      <td>238.69</td>\n",
       "      <td>239.1700</td>\n",
       "      <td>238.195</td>\n",
       "      <td>238.65</td>\n",
       "      <td>38750688</td>\n",
       "    </tr>\n",
       "    <tr>\n",
       "      <th>2017-05-02 00:00:00-04:00</th>\n",
       "      <td>108.68</td>\n",
       "      <td>108.9400</td>\n",
       "      <td>108.679</td>\n",
       "      <td>108.890</td>\n",
       "      <td>2570794</td>\n",
       "      <td>238.84</td>\n",
       "      <td>238.9800</td>\n",
       "      <td>238.300</td>\n",
       "      <td>238.79</td>\n",
       "      <td>39563850</td>\n",
       "    </tr>\n",
       "    <tr>\n",
       "      <th>2017-05-03 00:00:00-04:00</th>\n",
       "      <td>108.97</td>\n",
       "      <td>108.9900</td>\n",
       "      <td>108.770</td>\n",
       "      <td>108.795</td>\n",
       "      <td>1765578</td>\n",
       "      <td>238.32</td>\n",
       "      <td>238.8775</td>\n",
       "      <td>237.700</td>\n",
       "      <td>238.52</td>\n",
       "      <td>47292627</td>\n",
       "    </tr>\n",
       "    <tr>\n",
       "      <th>2017-05-04 00:00:00-04:00</th>\n",
       "      <td>108.55</td>\n",
       "      <td>108.7000</td>\n",
       "      <td>108.550</td>\n",
       "      <td>108.665</td>\n",
       "      <td>1789624</td>\n",
       "      <td>238.83</td>\n",
       "      <td>238.9225</td>\n",
       "      <td>237.780</td>\n",
       "      <td>238.75</td>\n",
       "      <td>46170233</td>\n",
       "    </tr>\n",
       "  </tbody>\n",
       "</table>\n",
       "</div>"
      ],
      "text/plain": [
       "                              AGG                                       \\\n",
       "                             open      high      low    close   volume   \n",
       "time                                                                     \n",
       "2017-04-28 00:00:00-04:00  108.98  109.2500  108.910  109.250  2722695   \n",
       "2017-05-01 00:00:00-04:00  108.86  108.9599  108.620  108.735  2335646   \n",
       "2017-05-02 00:00:00-04:00  108.68  108.9400  108.679  108.890  2570794   \n",
       "2017-05-03 00:00:00-04:00  108.97  108.9900  108.770  108.795  1765578   \n",
       "2017-05-04 00:00:00-04:00  108.55  108.7000  108.550  108.665  1789624   \n",
       "\n",
       "                              SPY                                       \n",
       "                             open      high      low   close    volume  \n",
       "time                                                                    \n",
       "2017-04-28 00:00:00-04:00  238.90  238.9300  237.930  238.10  42264701  \n",
       "2017-05-01 00:00:00-04:00  238.69  239.1700  238.195  238.65  38750688  \n",
       "2017-05-02 00:00:00-04:00  238.84  238.9800  238.300  238.79  39563850  \n",
       "2017-05-03 00:00:00-04:00  238.32  238.8775  237.700  238.52  47292627  \n",
       "2017-05-04 00:00:00-04:00  238.83  238.9225  237.780  238.75  46170233  "
      ]
     },
     "execution_count": 16,
     "metadata": {},
     "output_type": "execute_result"
    }
   ],
   "source": [
    "# Get 5 years' worth of historical data for SPY and AGG\n",
    "tickers = [\"AGG\", \"SPY\"]\n",
    "\n",
    "timeframe = \"1D\"\n",
    "\n",
    "ticker_data = api.get_barset(\n",
    "    tickers,\n",
    "    timeframe,\n",
    "    start=start_date,\n",
    "    end=end_date,\n",
    "    limit=1000,\n",
    ").df\n",
    "\n",
    "# \n",
    "ticker_data.head()\n",
    "\n"
   ]
  },
  {
   "cell_type": "code",
   "execution_count": 17,
   "metadata": {},
   "outputs": [
    {
     "data": {
      "text/html": [
       "<div>\n",
       "<style scoped>\n",
       "    .dataframe tbody tr th:only-of-type {\n",
       "        vertical-align: middle;\n",
       "    }\n",
       "\n",
       "    .dataframe tbody tr th {\n",
       "        vertical-align: top;\n",
       "    }\n",
       "\n",
       "    .dataframe thead th {\n",
       "        text-align: right;\n",
       "    }\n",
       "</style>\n",
       "<table border=\"1\" class=\"dataframe\">\n",
       "  <thead>\n",
       "    <tr style=\"text-align: right;\">\n",
       "      <th></th>\n",
       "      <th>AGG</th>\n",
       "      <th>SPY</th>\n",
       "    </tr>\n",
       "  </thead>\n",
       "  <tbody>\n",
       "    <tr>\n",
       "      <th>2017-05-01</th>\n",
       "      <td>-0.004714</td>\n",
       "      <td>0.002310</td>\n",
       "    </tr>\n",
       "    <tr>\n",
       "      <th>2017-05-02</th>\n",
       "      <td>0.001425</td>\n",
       "      <td>0.000587</td>\n",
       "    </tr>\n",
       "    <tr>\n",
       "      <th>2017-05-03</th>\n",
       "      <td>-0.000872</td>\n",
       "      <td>-0.001131</td>\n",
       "    </tr>\n",
       "    <tr>\n",
       "      <th>2017-05-04</th>\n",
       "      <td>-0.001195</td>\n",
       "      <td>0.000964</td>\n",
       "    </tr>\n",
       "    <tr>\n",
       "      <th>2017-05-05</th>\n",
       "      <td>0.000506</td>\n",
       "      <td>0.004063</td>\n",
       "    </tr>\n",
       "  </tbody>\n",
       "</table>\n",
       "</div>"
      ],
      "text/plain": [
       "                 AGG       SPY\n",
       "2017-05-01 -0.004714  0.002310\n",
       "2017-05-02  0.001425  0.000587\n",
       "2017-05-03 -0.000872 -0.001131\n",
       "2017-05-04 -0.001195  0.000964\n",
       "2017-05-05  0.000506  0.004063"
      ]
     },
     "execution_count": 17,
     "metadata": {},
     "output_type": "execute_result"
    }
   ],
   "source": [
    "# Configuring a Monte Carlo simulation to forecast 30 years cumulative returns\n",
    "monte_closing_prices = pd.DataFrame()\n",
    "\n",
    "monte_closing_prices[\"AGG\"] = ticker_data[\"AGG\"][\"close\"]\n",
    "monte_closing_prices[\"SPY\"] = ticker_data[\"SPY\"][\"close\"]\n",
    "\n",
    "monte_closing_prices.index = monte_closing_prices.index.date\n",
    "\n",
    "monte_daily_returns = monte_closing_prices.pct_change().dropna()\n",
    "\n",
    "monte_daily_returns.head()"
   ]
  },
  {
   "cell_type": "code",
   "execution_count": 18,
   "metadata": {},
   "outputs": [
    {
     "name": "stdout",
     "output_type": "stream",
     "text": [
      "Running Monte Carlo simulation number 0.\n",
      "Running Monte Carlo simulation number 10.\n",
      "Running Monte Carlo simulation number 20.\n",
      "Running Monte Carlo simulation number 30.\n",
      "Running Monte Carlo simulation number 40.\n",
      "Running Monte Carlo simulation number 50.\n",
      "Running Monte Carlo simulation number 60.\n",
      "Running Monte Carlo simulation number 70.\n",
      "Running Monte Carlo simulation number 80.\n",
      "Running Monte Carlo simulation number 90.\n",
      "Running Monte Carlo simulation number 100.\n",
      "Running Monte Carlo simulation number 110.\n",
      "Running Monte Carlo simulation number 120.\n",
      "Running Monte Carlo simulation number 130.\n",
      "Running Monte Carlo simulation number 140.\n",
      "Running Monte Carlo simulation number 150.\n",
      "Running Monte Carlo simulation number 160.\n",
      "Running Monte Carlo simulation number 170.\n",
      "Running Monte Carlo simulation number 180.\n",
      "Running Monte Carlo simulation number 190.\n",
      "Running Monte Carlo simulation number 200.\n",
      "Running Monte Carlo simulation number 210.\n",
      "Running Monte Carlo simulation number 220.\n",
      "Running Monte Carlo simulation number 230.\n",
      "Running Monte Carlo simulation number 240.\n",
      "Running Monte Carlo simulation number 250.\n",
      "Running Monte Carlo simulation number 260.\n",
      "Running Monte Carlo simulation number 270.\n",
      "Running Monte Carlo simulation number 280.\n",
      "Running Monte Carlo simulation number 290.\n",
      "Running Monte Carlo simulation number 300.\n",
      "Running Monte Carlo simulation number 310.\n",
      "Running Monte Carlo simulation number 320.\n",
      "Running Monte Carlo simulation number 330.\n",
      "Running Monte Carlo simulation number 340.\n",
      "Running Monte Carlo simulation number 350.\n",
      "Running Monte Carlo simulation number 360.\n",
      "Running Monte Carlo simulation number 370.\n",
      "Running Monte Carlo simulation number 380.\n",
      "Running Monte Carlo simulation number 390.\n",
      "Running Monte Carlo simulation number 400.\n",
      "Running Monte Carlo simulation number 410.\n",
      "Running Monte Carlo simulation number 420.\n",
      "Running Monte Carlo simulation number 430.\n",
      "Running Monte Carlo simulation number 440.\n",
      "Running Monte Carlo simulation number 450.\n",
      "Running Monte Carlo simulation number 460.\n",
      "Running Monte Carlo simulation number 470.\n",
      "Running Monte Carlo simulation number 480.\n",
      "Running Monte Carlo simulation number 490.\n"
     ]
    },
    {
     "data": {
      "image/png": "[encoded data removed]",
      "text/plain": [
       "<Figure size 432x288 with 1 Axes>"
      ]
     },
     "metadata": {
      "needs_background": "light"
     },
     "output_type": "display_data"
    }
   ],
   "source": [
    "\n",
    "MC_port = MCSimulation(\n",
    "    portfolio_data = ticker_data,\n",
    "    weights = [.40, .60],\n",
    "    num_simulation = 500,\n",
    "    num_trading_days = 252*30\n",
    ")\n",
    "\n",
    "line_plot = MC_port.plot_simulation()"
   ]
  },
  {
   "cell_type": "code",
   "execution_count": 19,
   "metadata": {},
   "outputs": [
    {
     "name": "stdout",
     "output_type": "stream",
     "text": [
      "Running Monte Carlo simulation number 0.\n",
      "Running Monte Carlo simulation number 10.\n",
      "Running Monte Carlo simulation number 20.\n",
      "Running Monte Carlo simulation number 30.\n",
      "Running Monte Carlo simulation number 40.\n",
      "Running Monte Carlo simulation number 50.\n",
      "Running Monte Carlo simulation number 60.\n",
      "Running Monte Carlo simulation number 70.\n",
      "Running Monte Carlo simulation number 80.\n",
      "Running Monte Carlo simulation number 90.\n",
      "Running Monte Carlo simulation number 100.\n",
      "Running Monte Carlo simulation number 110.\n",
      "Running Monte Carlo simulation number 120.\n",
      "Running Monte Carlo simulation number 130.\n",
      "Running Monte Carlo simulation number 140.\n",
      "Running Monte Carlo simulation number 150.\n",
      "Running Monte Carlo simulation number 160.\n",
      "Running Monte Carlo simulation number 170.\n",
      "Running Monte Carlo simulation number 180.\n",
      "Running Monte Carlo simulation number 190.\n",
      "Running Monte Carlo simulation number 200.\n",
      "Running Monte Carlo simulation number 210.\n",
      "Running Monte Carlo simulation number 220.\n",
      "Running Monte Carlo simulation number 230.\n",
      "Running Monte Carlo simulation number 240.\n",
      "Running Monte Carlo simulation number 250.\n",
      "Running Monte Carlo simulation number 260.\n",
      "Running Monte Carlo simulation number 270.\n",
      "Running Monte Carlo simulation number 280.\n",
      "Running Monte Carlo simulation number 290.\n",
      "Running Monte Carlo simulation number 300.\n",
      "Running Monte Carlo simulation number 310.\n",
      "Running Monte Carlo simulation number 320.\n",
      "Running Monte Carlo simulation number 330.\n",
      "Running Monte Carlo simulation number 340.\n",
      "Running Monte Carlo simulation number 350.\n",
      "Running Monte Carlo simulation number 360.\n",
      "Running Monte Carlo simulation number 370.\n",
      "Running Monte Carlo simulation number 380.\n",
      "Running Monte Carlo simulation number 390.\n",
      "Running Monte Carlo simulation number 400.\n",
      "Running Monte Carlo simulation number 410.\n",
      "Running Monte Carlo simulation number 420.\n",
      "Running Monte Carlo simulation number 430.\n",
      "Running Monte Carlo simulation number 440.\n",
      "Running Monte Carlo simulation number 450.\n",
      "Running Monte Carlo simulation number 460.\n",
      "Running Monte Carlo simulation number 470.\n",
      "Running Monte Carlo simulation number 480.\n",
      "Running Monte Carlo simulation number 490.\n"
     ]
    },
    {
     "data": {
      "text/html": [
       "<div>\n",
       "<style scoped>\n",
       "    .dataframe tbody tr th:only-of-type {\n",
       "        vertical-align: middle;\n",
       "    }\n",
       "\n",
       "    .dataframe tbody tr th {\n",
       "        vertical-align: top;\n",
       "    }\n",
       "\n",
       "    .dataframe thead th {\n",
       "        text-align: right;\n",
       "    }\n",
       "</style>\n",
       "<table border=\"1\" class=\"dataframe\">\n",
       "  <thead>\n",
       "    <tr style=\"text-align: right;\">\n",
       "      <th></th>\n",
       "      <th>0</th>\n",
       "      <th>1</th>\n",
       "      <th>2</th>\n",
       "      <th>3</th>\n",
       "      <th>4</th>\n",
       "      <th>5</th>\n",
       "      <th>6</th>\n",
       "      <th>7</th>\n",
       "      <th>8</th>\n",
       "      <th>9</th>\n",
       "      <th>...</th>\n",
       "      <th>490</th>\n",
       "      <th>491</th>\n",
       "      <th>492</th>\n",
       "      <th>493</th>\n",
       "      <th>494</th>\n",
       "      <th>495</th>\n",
       "      <th>496</th>\n",
       "      <th>497</th>\n",
       "      <th>498</th>\n",
       "      <th>499</th>\n",
       "    </tr>\n",
       "  </thead>\n",
       "  <tbody>\n",
       "    <tr>\n",
       "      <th>0</th>\n",
       "      <td>1.000000</td>\n",
       "      <td>1.000000</td>\n",
       "      <td>1.000000</td>\n",
       "      <td>1.000000</td>\n",
       "      <td>1.000000</td>\n",
       "      <td>1.000000</td>\n",
       "      <td>1.000000</td>\n",
       "      <td>1.000000</td>\n",
       "      <td>1.000000</td>\n",
       "      <td>1.000000</td>\n",
       "      <td>...</td>\n",
       "      <td>1.000000</td>\n",
       "      <td>1.000000</td>\n",
       "      <td>1.000000</td>\n",
       "      <td>1.000000</td>\n",
       "      <td>1.000000</td>\n",
       "      <td>1.000000</td>\n",
       "      <td>1.000000</td>\n",
       "      <td>1.000000</td>\n",
       "      <td>1.000000</td>\n",
       "      <td>1.000000</td>\n",
       "    </tr>\n",
       "    <tr>\n",
       "      <th>1</th>\n",
       "      <td>1.003335</td>\n",
       "      <td>1.004029</td>\n",
       "      <td>1.000640</td>\n",
       "      <td>1.005252</td>\n",
       "      <td>1.005900</td>\n",
       "      <td>1.013176</td>\n",
       "      <td>1.008932</td>\n",
       "      <td>0.993821</td>\n",
       "      <td>1.013958</td>\n",
       "      <td>1.016284</td>\n",
       "      <td>...</td>\n",
       "      <td>1.010477</td>\n",
       "      <td>0.997799</td>\n",
       "      <td>0.990175</td>\n",
       "      <td>1.003453</td>\n",
       "      <td>1.001220</td>\n",
       "      <td>1.003650</td>\n",
       "      <td>1.003383</td>\n",
       "      <td>1.013236</td>\n",
       "      <td>1.003817</td>\n",
       "      <td>0.998665</td>\n",
       "    </tr>\n",
       "    <tr>\n",
       "      <th>2</th>\n",
       "      <td>1.006483</td>\n",
       "      <td>1.002461</td>\n",
       "      <td>1.004381</td>\n",
       "      <td>1.002018</td>\n",
       "      <td>1.006750</td>\n",
       "      <td>1.008705</td>\n",
       "      <td>1.007806</td>\n",
       "      <td>0.998252</td>\n",
       "      <td>1.011249</td>\n",
       "      <td>1.009658</td>\n",
       "      <td>...</td>\n",
       "      <td>1.013684</td>\n",
       "      <td>0.990803</td>\n",
       "      <td>0.992405</td>\n",
       "      <td>1.008646</td>\n",
       "      <td>0.982811</td>\n",
       "      <td>1.018139</td>\n",
       "      <td>0.985877</td>\n",
       "      <td>1.003574</td>\n",
       "      <td>0.997820</td>\n",
       "      <td>1.006769</td>\n",
       "    </tr>\n",
       "    <tr>\n",
       "      <th>3</th>\n",
       "      <td>0.995675</td>\n",
       "      <td>1.005881</td>\n",
       "      <td>1.006097</td>\n",
       "      <td>0.996023</td>\n",
       "      <td>1.010118</td>\n",
       "      <td>1.010651</td>\n",
       "      <td>1.015375</td>\n",
       "      <td>0.988514</td>\n",
       "      <td>1.005115</td>\n",
       "      <td>1.018240</td>\n",
       "      <td>...</td>\n",
       "      <td>1.010549</td>\n",
       "      <td>0.980077</td>\n",
       "      <td>0.976081</td>\n",
       "      <td>1.012243</td>\n",
       "      <td>0.974612</td>\n",
       "      <td>1.021219</td>\n",
       "      <td>0.983170</td>\n",
       "      <td>1.017189</td>\n",
       "      <td>0.988635</td>\n",
       "      <td>0.995294</td>\n",
       "    </tr>\n",
       "    <tr>\n",
       "      <th>4</th>\n",
       "      <td>0.998822</td>\n",
       "      <td>1.014270</td>\n",
       "      <td>1.000943</td>\n",
       "      <td>0.994927</td>\n",
       "      <td>1.012984</td>\n",
       "      <td>1.013550</td>\n",
       "      <td>1.004535</td>\n",
       "      <td>0.988719</td>\n",
       "      <td>0.998509</td>\n",
       "      <td>1.015152</td>\n",
       "      <td>...</td>\n",
       "      <td>1.015915</td>\n",
       "      <td>0.989862</td>\n",
       "      <td>0.980674</td>\n",
       "      <td>1.022130</td>\n",
       "      <td>0.981466</td>\n",
       "      <td>1.025191</td>\n",
       "      <td>0.974426</td>\n",
       "      <td>1.024315</td>\n",
       "      <td>0.989433</td>\n",
       "      <td>0.975757</td>\n",
       "    </tr>\n",
       "    <tr>\n",
       "      <th>...</th>\n",
       "      <td>...</td>\n",
       "      <td>...</td>\n",
       "      <td>...</td>\n",
       "      <td>...</td>\n",
       "      <td>...</td>\n",
       "      <td>...</td>\n",
       "      <td>...</td>\n",
       "      <td>...</td>\n",
       "      <td>...</td>\n",
       "      <td>...</td>\n",
       "      <td>...</td>\n",
       "      <td>...</td>\n",
       "      <td>...</td>\n",
       "      <td>...</td>\n",
       "      <td>...</td>\n",
       "      <td>...</td>\n",
       "      <td>...</td>\n",
       "      <td>...</td>\n",
       "      <td>...</td>\n",
       "      <td>...</td>\n",
       "      <td>...</td>\n",
       "    </tr>\n",
       "    <tr>\n",
       "      <th>7556</th>\n",
       "      <td>18.651378</td>\n",
       "      <td>22.767828</td>\n",
       "      <td>28.206452</td>\n",
       "      <td>17.929093</td>\n",
       "      <td>31.919139</td>\n",
       "      <td>18.468537</td>\n",
       "      <td>14.290754</td>\n",
       "      <td>2.975633</td>\n",
       "      <td>11.818876</td>\n",
       "      <td>34.579928</td>\n",
       "      <td>...</td>\n",
       "      <td>11.807258</td>\n",
       "      <td>75.777740</td>\n",
       "      <td>17.402566</td>\n",
       "      <td>8.170900</td>\n",
       "      <td>4.243908</td>\n",
       "      <td>17.536351</td>\n",
       "      <td>25.525706</td>\n",
       "      <td>29.381900</td>\n",
       "      <td>27.516131</td>\n",
       "      <td>22.887282</td>\n",
       "    </tr>\n",
       "    <tr>\n",
       "      <th>7557</th>\n",
       "      <td>18.286660</td>\n",
       "      <td>22.775021</td>\n",
       "      <td>28.199185</td>\n",
       "      <td>18.005683</td>\n",
       "      <td>32.000332</td>\n",
       "      <td>18.582089</td>\n",
       "      <td>14.194560</td>\n",
       "      <td>3.000774</td>\n",
       "      <td>11.849110</td>\n",
       "      <td>34.491232</td>\n",
       "      <td>...</td>\n",
       "      <td>11.894802</td>\n",
       "      <td>75.092316</td>\n",
       "      <td>17.265340</td>\n",
       "      <td>8.081781</td>\n",
       "      <td>4.240567</td>\n",
       "      <td>17.192191</td>\n",
       "      <td>25.233154</td>\n",
       "      <td>29.166416</td>\n",
       "      <td>27.149627</td>\n",
       "      <td>22.946282</td>\n",
       "    </tr>\n",
       "    <tr>\n",
       "      <th>7558</th>\n",
       "      <td>18.148617</td>\n",
       "      <td>22.585239</td>\n",
       "      <td>28.612318</td>\n",
       "      <td>17.746799</td>\n",
       "      <td>32.128660</td>\n",
       "      <td>18.603047</td>\n",
       "      <td>14.211912</td>\n",
       "      <td>2.991303</td>\n",
       "      <td>11.775822</td>\n",
       "      <td>34.729778</td>\n",
       "      <td>...</td>\n",
       "      <td>11.935503</td>\n",
       "      <td>74.770062</td>\n",
       "      <td>17.367952</td>\n",
       "      <td>8.095173</td>\n",
       "      <td>4.227352</td>\n",
       "      <td>17.331883</td>\n",
       "      <td>24.815977</td>\n",
       "      <td>28.925366</td>\n",
       "      <td>27.203922</td>\n",
       "      <td>22.564275</td>\n",
       "    </tr>\n",
       "    <tr>\n",
       "      <th>7559</th>\n",
       "      <td>17.966726</td>\n",
       "      <td>22.141109</td>\n",
       "      <td>29.030140</td>\n",
       "      <td>17.958126</td>\n",
       "      <td>31.882482</td>\n",
       "      <td>18.777957</td>\n",
       "      <td>14.252727</td>\n",
       "      <td>3.012036</td>\n",
       "      <td>11.757493</td>\n",
       "      <td>34.831588</td>\n",
       "      <td>...</td>\n",
       "      <td>11.973530</td>\n",
       "      <td>74.674628</td>\n",
       "      <td>17.339449</td>\n",
       "      <td>8.130577</td>\n",
       "      <td>4.237781</td>\n",
       "      <td>17.640393</td>\n",
       "      <td>24.867909</td>\n",
       "      <td>29.228334</td>\n",
       "      <td>27.326703</td>\n",
       "      <td>22.824828</td>\n",
       "    </tr>\n",
       "    <tr>\n",
       "      <th>7560</th>\n",
       "      <td>18.026059</td>\n",
       "      <td>22.155434</td>\n",
       "      <td>28.571514</td>\n",
       "      <td>17.730127</td>\n",
       "      <td>31.902675</td>\n",
       "      <td>18.783051</td>\n",
       "      <td>14.181050</td>\n",
       "      <td>3.006945</td>\n",
       "      <td>11.821340</td>\n",
       "      <td>34.124102</td>\n",
       "      <td>...</td>\n",
       "      <td>12.076617</td>\n",
       "      <td>74.685212</td>\n",
       "      <td>17.444401</td>\n",
       "      <td>8.135072</td>\n",
       "      <td>4.263622</td>\n",
       "      <td>17.527380</td>\n",
       "      <td>24.839097</td>\n",
       "      <td>28.722095</td>\n",
       "      <td>27.402427</td>\n",
       "      <td>22.929786</td>\n",
       "    </tr>\n",
       "  </tbody>\n",
       "</table>\n",
       "<p>7561 rows × 500 columns</p>\n",
       "</div>"
      ],
      "text/plain": [
       "            0          1          2          3          4          5    \\\n",
       "0      1.000000   1.000000   1.000000   1.000000   1.000000   1.000000   \n",
       "1      1.003335   1.004029   1.000640   1.005252   1.005900   1.013176   \n",
       "2      1.006483   1.002461   1.004381   1.002018   1.006750   1.008705   \n",
       "3      0.995675   1.005881   1.006097   0.996023   1.010118   1.010651   \n",
       "4      0.998822   1.014270   1.000943   0.994927   1.012984   1.013550   \n",
       "...         ...        ...        ...        ...        ...        ...   \n",
       "7556  18.651378  22.767828  28.206452  17.929093  31.919139  18.468537   \n",
       "7557  18.286660  22.775021  28.199185  18.005683  32.000332  18.582089   \n",
       "7558  18.148617  22.585239  28.612318  17.746799  32.128660  18.603047   \n",
       "7559  17.966726  22.141109  29.030140  17.958126  31.882482  18.777957   \n",
       "7560  18.026059  22.155434  28.571514  17.730127  31.902675  18.783051   \n",
       "\n",
       "            6         7          8          9    ...        490        491  \\\n",
       "0      1.000000  1.000000   1.000000   1.000000  ...   1.000000   1.000000   \n",
       "1      1.008932  0.993821   1.013958   1.016284  ...   1.010477   0.997799   \n",
       "2      1.007806  0.998252   1.011249   1.009658  ...   1.013684   0.990803   \n",
       "3      1.015375  0.988514   1.005115   1.018240  ...   1.010549   0.980077   \n",
       "4      1.004535  0.988719   0.998509   1.015152  ...   1.015915   0.989862   \n",
       "...         ...       ...        ...        ...  ...        ...        ...   \n",
       "7556  14.290754  2.975633  11.818876  34.579928  ...  11.807258  75.777740   \n",
       "7557  14.194560  3.000774  11.849110  34.491232  ...  11.894802  75.092316   \n",
       "7558  14.211912  2.991303  11.775822  34.729778  ...  11.935503  74.770062   \n",
       "7559  14.252727  3.012036  11.757493  34.831588  ...  11.973530  74.674628   \n",
       "7560  14.181050  3.006945  11.821340  34.124102  ...  12.076617  74.685212   \n",
       "\n",
       "            492       493       494        495        496        497  \\\n",
       "0      1.000000  1.000000  1.000000   1.000000   1.000000   1.000000   \n",
       "1      0.990175  1.003453  1.001220   1.003650   1.003383   1.013236   \n",
       "2      0.992405  1.008646  0.982811   1.018139   0.985877   1.003574   \n",
       "3      0.976081  1.012243  0.974612   1.021219   0.983170   1.017189   \n",
       "4      0.980674  1.022130  0.981466   1.025191   0.974426   1.024315   \n",
       "...         ...       ...       ...        ...        ...        ...   \n",
       "7556  17.402566  8.170900  4.243908  17.536351  25.525706  29.381900   \n",
       "7557  17.265340  8.081781  4.240567  17.192191  25.233154  29.166416   \n",
       "7558  17.367952  8.095173  4.227352  17.331883  24.815977  28.925366   \n",
       "7559  17.339449  8.130577  4.237781  17.640393  24.867909  29.228334   \n",
       "7560  17.444401  8.135072  4.263622  17.527380  24.839097  28.722095   \n",
       "\n",
       "            498        499  \n",
       "0      1.000000   1.000000  \n",
       "1      1.003817   0.998665  \n",
       "2      0.997820   1.006769  \n",
       "3      0.988635   0.995294  \n",
       "4      0.989433   0.975757  \n",
       "...         ...        ...  \n",
       "7556  27.516131  22.887282  \n",
       "7557  27.149627  22.946282  \n",
       "7558  27.203922  22.564275  \n",
       "7559  27.326703  22.824828  \n",
       "7560  27.402427  22.929786  \n",
       "\n",
       "[7561 rows x 500 columns]"
      ]
     },
     "execution_count": 19,
     "metadata": {},
     "output_type": "execute_result"
    }
   ],
   "source": [
    "# Running a Monte Carlo simulation to forecast 30 years cumulative returns\n",
    "MC_port.calc_cumulative_return()"
   ]
  },
  {
   "cell_type": "code",
   "execution_count": 20,
   "metadata": {},
   "outputs": [
    {
     "data": {
      "image/png": "[encoded data removed]",
      "text/plain": [
       "<Figure size 432x288 with 1 Axes>"
      ]
     },
     "metadata": {
      "needs_background": "light"
     },
     "output_type": "display_data"
    }
   ],
   "source": [
    "# Plot probability distribution and confidence intervals\n",
    "dist_plot = MC_port.plot_distribution()"
   ]
  },
  {
   "cell_type": "markdown",
   "metadata": {},
   "source": [
    "### Retirement Analysis"
   ]
  },
  {
   "cell_type": "code",
   "execution_count": 21,
   "metadata": {},
   "outputs": [
    {
     "data": {
      "text/plain": [
       "count           500.000000\n",
       "mean             23.407771\n",
       "std              19.065081\n",
       "min               2.313135\n",
       "25%              10.813873\n",
       "50%              17.624789\n",
       "75%              28.754225\n",
       "max             109.702011\n",
       "95% CI Lower      3.765335\n",
       "95% CI Upper     81.960320\n",
       "Name: 7560, dtype: float64"
      ]
     },
     "execution_count": 21,
     "metadata": {},
     "output_type": "execute_result"
    }
   ],
   "source": [
    "# Fetch summary statistics from the Monte Carlo simulation results\n",
    "summary_stats = MC_port.summarize_cumulative_return()\n",
    "\n",
    "summary_stats\n",
    "# Print summary statistics\n"
   ]
  },
  {
   "cell_type": "markdown",
   "metadata": {},
   "source": [
    "### Calculate the expected portfolio return at the 95% lower and upper confidence intervals based on a `$20,000` initial investment."
   ]
  },
  {
   "cell_type": "code",
   "execution_count": 22,
   "metadata": {},
   "outputs": [
    {
     "name": "stdout",
     "output_type": "stream",
     "text": [
      "There is a 95% chance that an initial investment of $20000 in the portfolio over the next 30 years will end within in the range of $75306.69 and $1639206.4\n"
     ]
    }
   ],
   "source": [
    "# Set initial investment\n",
    "initial_investment = 20000\n",
    "\n",
    "# Use the lower and upper `95%` confidence intervals to calculate the range of the possible outcomes of our $20,000\n",
    "ci_lower = round((summary_stats[8])*initial_investment,2)\n",
    "ci_upper = round((summary_stats[9])*initial_investment,2)\n",
    "\n",
    "# Print results\n",
    "print(f\"There is a 95% chance that an initial investment of ${initial_investment} in the portfolio\"\n",
    "      f\" over the next 30 years will end within in the range of\"\n",
    "      f\" ${ci_lower} and ${ci_upper}\")"
   ]
  },
  {
   "cell_type": "markdown",
   "metadata": {},
   "source": [
    "### Calculate the expected portfolio return at the `95%` lower and upper confidence intervals based on a `50%` increase in the initial investment."
   ]
  },
  {
   "cell_type": "code",
   "execution_count": 23,
   "metadata": {},
   "outputs": [
    {
     "name": "stdout",
     "output_type": "stream",
     "text": [
      "There is a 95% chance that an initial investment of $30000.0 in the portfolio over the next 30 years will end within in the range of $112960.04 and $2458809.6\n"
     ]
    }
   ],
   "source": [
    "# Set initial investment\n",
    "initial_investment = 20000 * 1.5\n",
    "\n",
    "# Use the lower and upper `95%` confidence intervals to calculate the range of the possible outcomes of our $30,000\n",
    "ci_lower = round((summary_stats[8])*initial_investment,2)\n",
    "ci_upper = round((summary_stats[9])*initial_investment,2)\n",
    "\n",
    "# Print results\n",
    "print(f\"There is a 95% chance that an initial investment of ${initial_investment} in the portfolio\"\n",
    "      f\" over the next 30 years will end within in the range of\"\n",
    "      f\" ${ci_lower} and ${ci_upper}\")"
   ]
  },
  {
   "cell_type": "markdown",
   "metadata": {},
   "source": [
    "## Optional Challenge - Early Retirement\n",
    "\n",
    "\n",
    "### Five Years Retirement Option"
   ]
  },
  {
   "cell_type": "code",
   "execution_count": 24,
   "metadata": {},
   "outputs": [],
   "source": [
    "# Configuring a Monte Carlo simulation to forecast 5 years cumulative returns\n",
    "# YOUR CODE HERE!"
   ]
  },
  {
   "cell_type": "code",
   "execution_count": 25,
   "metadata": {},
   "outputs": [],
   "source": [
    "# Running a Monte Carlo simulation to forecast 5 years cumulative returns\n",
    "# YOUR CODE HERE!"
   ]
  },
  {
   "cell_type": "code",
   "execution_count": 26,
   "metadata": {},
   "outputs": [],
   "source": [
    "# Plot simulation outcomes\n",
    "# YOUR CODE HERE!"
   ]
  },
  {
   "cell_type": "code",
   "execution_count": 27,
   "metadata": {},
   "outputs": [],
   "source": [
    "# Plot probability distribution and confidence intervals\n",
    "# YOUR CODE HERE!"
   ]
  },
  {
   "cell_type": "code",
   "execution_count": 28,
   "metadata": {},
   "outputs": [],
   "source": [
    "# Fetch summary statistics from the Monte Carlo simulation results\n",
    "# YOUR CODE HERE!\n",
    "\n",
    "# Print summary statistics\n",
    "# YOUR CODE HERE!"
   ]
  },
  {
   "cell_type": "code",
   "execution_count": 29,
   "metadata": {},
   "outputs": [
    {
     "ename": "NameError",
     "evalue": "name 'ci_lower_five' is not defined",
     "output_type": "error",
     "traceback": [
      "\u001b[0;31m---------------------------------------------------------------------------\u001b[0m",
      "\u001b[0;31mNameError\u001b[0m                                 Traceback (most recent call last)",
      "\u001b[0;32m<ipython-input-29-d56b774f48d0>\u001b[0m in \u001b[0;36m<module>\u001b[0;34m\u001b[0m\n\u001b[1;32m      6\u001b[0m \u001b[0;34m\u001b[0m\u001b[0m\n\u001b[1;32m      7\u001b[0m \u001b[0;31m# Print results\u001b[0m\u001b[0;34m\u001b[0m\u001b[0;34m\u001b[0m\u001b[0;34m\u001b[0m\u001b[0m\n\u001b[0;32m----> 8\u001b[0;31m print(f\"There is a 95% chance that an initial investment of ${initial_investment} in the portfolio\"\n\u001b[0m\u001b[1;32m      9\u001b[0m       \u001b[0;34mf\" over the next 5 years will end within in the range of\"\u001b[0m\u001b[0;34m\u001b[0m\u001b[0;34m\u001b[0m\u001b[0m\n\u001b[1;32m     10\u001b[0m       f\" ${ci_lower_five} and ${ci_upper_five}\")\n",
      "\u001b[0;31mNameError\u001b[0m: name 'ci_lower_five' is not defined"
     ]
    }
   ],
   "source": [
    "# Set initial investment\n",
    "# YOUR CODE HERE!\n",
    "\n",
    "# Use the lower and upper `95%` confidence intervals to calculate the range of the possible outcomes of our $60,000\n",
    "# YOUR CODE HERE!\n",
    "\n",
    "# Print results\n",
    "print(f\"There is a 95% chance that an initial investment of ${initial_investment} in the portfolio\"\n",
    "      f\" over the next 5 years will end within in the range of\"\n",
    "      f\" ${ci_lower_five} and ${ci_upper_five}\")"
   ]
  },
  {
   "cell_type": "markdown",
   "metadata": {},
   "source": [
    "### Ten Years Retirement Option"
   ]
  },
  {
   "cell_type": "code",
   "execution_count": null,
   "metadata": {},
   "outputs": [],
   "source": [
    "# Configuring a Monte Carlo simulation to forecast 10 years cumulative returns\n",
    "# YOUR CODE HERE!"
   ]
  },
  {
   "cell_type": "code",
   "execution_count": null,
   "metadata": {},
   "outputs": [],
   "source": [
    "# Running a Monte Carlo simulation to forecast 10 years cumulative returns\n",
    "# YOUR CODE HERE!"
   ]
  },
  {
   "cell_type": "code",
   "execution_count": null,
   "metadata": {},
   "outputs": [],
   "source": [
    "# Plot simulation outcomes\n",
    "# YOUR CODE HERE!"
   ]
  },
  {
   "cell_type": "code",
   "execution_count": null,
   "metadata": {},
   "outputs": [],
   "source": [
    "# Plot probability distribution and confidence intervals\n",
    "# YOUR CODE HERE!"
   ]
  },
  {
   "cell_type": "code",
   "execution_count": null,
   "metadata": {},
   "outputs": [],
   "source": [
    "# Fetch summary statistics from the Monte Carlo simulation results\n",
    "# YOUR CODE HERE!\n",
    "\n",
    "# Print summary statistics\n",
    "# YOUR CODE HERE!"
   ]
  },
  {
   "cell_type": "code",
   "execution_count": null,
   "metadata": {},
   "outputs": [],
   "source": [
    "# Set initial investment\n",
    "# YOUR CODE HERE!\n",
    "\n",
    "# Use the lower and upper `95%` confidence intervals to calculate the range of the possible outcomes of our $60,000\n",
    "# YOUR CODE HERE!\n",
    "\n",
    "# Print results\n",
    "print(f\"There is a 95% chance that an initial investment of ${initial_investment} in the portfolio\"\n",
    "      f\" over the next 10 years will end within in the range of\"\n",
    "      f\" ${ci_lower_ten} and ${ci_upper_ten}\")"
   ]
  }
 ],
 "metadata": {
  "kernelspec": {
   "display_name": "Python 3",
   "language": "python",
   "name": "python3"
  },
  "language_info": {
   "codemirror_mode": {
    "name": "ipython",
    "version": 3
   },
   "file_extension": ".py",
   "mimetype": "text/x-python",
   "name": "python",
   "nbconvert_exporter": "python",
   "pygments_lexer": "ipython3",
   "version": "3.8.5"
  }
 },
 "nbformat": 4,
 "nbformat_minor": 4
}
